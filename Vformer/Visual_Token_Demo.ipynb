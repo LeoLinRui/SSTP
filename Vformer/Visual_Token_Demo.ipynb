{
 "cells": [
  {
   "cell_type": "code",
   "execution_count": 3,
   "metadata": {
    "id": "NYwcbGFSrZEE"
   },
   "outputs": [],
   "source": [
    "import argparse\n",
    "import os\n",
    "import sys\n",
    "import numpy as np\n",
    "import math\n",
    "import pickle\n",
    "import time\n",
    "import cv2 as cv\n",
    "import matplotlib\n",
    "import matplotlib.pyplot as plt\n",
    "import random\n",
    "from cv2 import VideoWriter, VideoWriter_fourcc, imread\n",
    "\n",
    "import torchvision.transforms as transforms\n",
    "from torchvision.utils import save_image\n",
    "\n",
    "from torch.utils.data import Dataset, DataLoader\n",
    "from torchvision import datasets\n",
    "from torch.autograd import Variable\n",
    "from torch.cuda.amp import autocast, GradScaler\n",
    "\n",
    "import torch.nn as nn\n",
    "import torch.nn.functional as F\n",
    "import torch\n",
    "import torchvision\n",
    "\n",
    "import warnings"
   ]
  },
  {
   "cell_type": "markdown",
   "metadata": {
    "id": "9ju7BS0RL1VR"
   },
   "source": [
    "### Visual Token Pipeline Demo"
   ]
  },
  {
   "cell_type": "code",
   "execution_count": 4,
   "metadata": {
    "colab": {
     "base_uri": "https://localhost:8080/"
    },
    "id": "Io369an8sMF6",
    "outputId": "05aa5283-7e61-4afe-aa05-f4122324f697"
   },
   "outputs": [
    {
     "name": "stdout",
     "output_type": "stream",
     "text": [
      "torch.Size([16, 3, 64, 64])\n",
      "torch.Size([16, 256, 32, 32])\n",
      "torch.Size([16, 512, 16, 16])\n",
      "torch.Size([16, 512, 8, 8])\n",
      "torch.Size([16, 512, 8, 8])\n",
      "torch.Size([16, 20000, 8, 8])\n",
      "torch.Size([16, 8, 8])\n",
      "torch.Size([16, 64])\n",
      "torch.Size([16, 64, 1024])\n",
      "0.7681350708007812\n"
     ]
    }
   ],
   "source": [
    "b = 16\n",
    "a = torch.randn(b, 3, 64, 64)\n",
    "\n",
    "maxpool1 = nn.MaxPool2d(kernel_size=[2, 2], stride=2)\n",
    "maxpool2 = nn.MaxPool2d(kernel_size=[8, 8], stride=1, padding=0)\n",
    "\n",
    "conv1 = nn.Conv2d(in_channels=3, out_channels=256, kernel_size=[7, 7], stride=2, padding=3, bias=False)\n",
    "conv2 = nn.Conv2d(in_channels=256, out_channels=512, kernel_size=[7, 7], stride=2, padding=3, bias=False)\n",
    "conv3 = nn.Conv2d(in_channels=512, out_channels=512, kernel_size=[3, 3], stride=1, padding=1)\n",
    "conv4 = nn.Conv2d(in_channels=512, out_channels=20000, kernel_size=[3, 3], stride=1, padding=1)\n",
    "\n",
    "\n",
    "inter1 = nn.Linear(20000, 256)\n",
    "inter2 = nn.Linear(256, 20000)\n",
    "deconv1 = nn.ConvTranspose2d(in_channels=20000, out_channels=512, kernel_size=[7, 7])\n",
    "\n",
    "tokenizer = nn.Embedding(num_embeddings=20000, embedding_dim=1024)\n",
    "\n",
    "start_time=time.time()\n",
    "print(a.shape)\n",
    "a = conv1(a)\n",
    "print(a.shape)\n",
    "a = conv2(a)\n",
    "print(a.shape)\n",
    "a = maxpool1(a)\n",
    "print(a.shape)\n",
    "a = conv3(a)\n",
    "print(a.shape)\n",
    "a = conv4(a)\n",
    "print(a.shape)\n",
    "embedding = torch.argmax(a, dim=1)\n",
    "print(embedding.shape)\n",
    "embedding = embedding.view(b, embedding.shape[-1]*embedding.shape[-2])\n",
    "print(embedding.shape)\n",
    "embedding = tokenizer(embedding)\n",
    "print(embedding.shape)\n",
    "print(time.time()-start_time)"
   ]
  },
  {
   "cell_type": "markdown",
   "metadata": {
    "id": "Lj01E4pfMD3l"
   },
   "source": [
    "### Pretraining Stage 1 Demo"
   ]
  },
  {
   "cell_type": "code",
   "execution_count": 5,
   "metadata": {
    "colab": {
     "base_uri": "https://localhost:8080/"
    },
    "id": "GlfCBdfbTd53",
    "outputId": "ac3e0daa-1693-4395-c23e-23a429b41723"
   },
   "outputs": [
    {
     "name": "stdout",
     "output_type": "stream",
     "text": [
      "torch.Size([16, 3, 64, 64])\n",
      "torch.Size([16, 64, 32, 32])\n",
      "torch.Size([16, 128, 16, 16])\n",
      "torch.Size([16, 128, 16, 16])\n",
      "torch.Size([16, 20000, 16, 16])\n",
      "torch.Size([16, 256, 8, 8])\n",
      "torch.Size([16, 256, 1, 1])\n",
      "torch.Size([16, 256, 4, 4])\n",
      "torch.Size([16, 256, 8, 8])\n",
      "torch.Size([16, 256, 16, 16])\n",
      "torch.Size([16, 256, 32, 32])\n",
      "torch.Size([16, 16, 16, 1024])\n",
      "torch.Size([16, 1024, 16, 16])\n",
      "torch.Size([16, 512, 32, 32])\n",
      "torch.Size([16, 3, 64, 64])\n",
      "6.295857667922974\n"
     ]
    }
   ],
   "source": [
    "b = 16\n",
    "a = torch.randn(b, 3, 64, 64)\n",
    "\n",
    "maxpool1 = nn.MaxPool2d(kernel_size=[2, 2], stride=2)\n",
    "maxpool2 = nn.MaxPool2d(kernel_size=[8, 8], stride=1, padding=0)\n",
    "upsample = nn.UpsamplingBilinear2d(scale_factor=2)\n",
    "\n",
    "conv1 = nn.Conv2d(in_channels=3, out_channels=64, kernel_size=[7, 7], stride=2, padding=3, bias=False)\n",
    "conv2 = nn.Conv2d(in_channels=64, out_channels=128, kernel_size=[7, 7], stride=2, padding=3, bias=False)\n",
    "conv3 = nn.Conv2d(in_channels=128, out_channels=128, kernel_size=[3, 3], stride=1, padding=1)\n",
    "conv4 = nn.Conv2d(in_channels=128, out_channels=20000, kernel_size=[3, 3], stride=1, padding=1)\n",
    "\n",
    "inter1 = nn.Conv2d(in_channels=20000, out_channels=256, kernel_size=[3, 3], stride=2, padding=1, bias=False)\n",
    "inter2 = nn.ConvTranspose2d(in_channels=256, out_channels=256, kernel_size=[4, 4], padding=0)\n",
    "inter3 = nn.ConvTranspose2d(in_channels=256, out_channels=256, kernel_size=[4, 4], stride=2, padding=1)\n",
    "\n",
    "deconv1 = nn.ConvTranspose2d(in_channels=1024, out_channels=512, kernel_size=[4, 4], stride=2, padding=1)\n",
    "deconv2 = nn.ConvTranspose2d(in_channels=512, out_channels=3, kernel_size=[4, 4], stride=2, padding=1)\n",
    "#deconv3 = nn.ConvTranspose2d(in_channels=256, out_channels=128, kernel_size=[4, 4], stride=2, padding=1)\n",
    "#deconv4 = nn.ConvTranspose2d(in_channels=128, out_channels=3, kernel_size=[4, 4], stride=2, padding=1)\n",
    "\n",
    "\n",
    "start_time=time.time()\n",
    "\n",
    "print(a.shape)\n",
    "a = conv1(a)\n",
    "print(a.shape)\n",
    "a = conv2(a)\n",
    "print(a.shape)\n",
    "a = conv3(a)\n",
    "print(a.shape)\n",
    "a = conv4(a)\n",
    "print(a.shape)\n",
    "\n",
    "## Inter Layer. will be discarded in real use, for bottlenecking reason only.\n",
    "a = inter1(a)\n",
    "print(a.shape)\n",
    "a = maxpool2(a)\n",
    "print(a.shape)\n",
    "a = inter2(a)\n",
    "print(a.shape)\n",
    "a = upsample(a)\n",
    "print(a.shape)\n",
    "a = inter3(a)\n",
    "print(a.shape)\n",
    "a = upsample(a)\n",
    "print(a.shape)\n",
    "\n",
    "## Deconv Layers, will be finetuned with the reformer.\n",
    "## Has input shape of (b, 256, 1024) ==> all the embeddings for one image\n",
    "## first, reconstruct an image of size 16*16 from the embeddings, it will have 512 channels\n",
    "a = a.view(b, 16, 16, 1024)\n",
    "print(a.shape)\n",
    "a = a.transpose(1, 3).transpose(2, 3)\n",
    "print(a.shape)\n",
    "a = deconv1(a)\n",
    "print(a.shape)\n",
    "a = deconv2(a)\n",
    "print(a.shape)\n",
    "\n",
    "print(time.time()-start_time)"
   ]
  },
  {
   "cell_type": "markdown",
   "metadata": {
    "id": "ZPxT_AvyTeja"
   },
   "source": [
    "### Pretraining Stage 2 Demo (idk if we need a stage 2)"
   ]
  },
  {
   "cell_type": "code",
   "execution_count": 6,
   "metadata": {
    "colab": {
     "base_uri": "https://localhost:8080/"
    },
    "id": "IVheDThrLfkT",
    "outputId": "ee587d2b-bd1b-4eb3-afe4-49e97ae77577"
   },
   "outputs": [
    {
     "name": "stdout",
     "output_type": "stream",
     "text": [
      "torch.Size([16, 3, 64, 64])\n",
      "torch.Size([16, 256, 32, 32])\n",
      "torch.Size([16, 512, 16, 16])\n",
      "torch.Size([16, 512, 16, 16])\n",
      "torch.Size([16, 20000, 16, 16])\n",
      "embedding torch.Size([16, 16, 16])\n",
      "embedding torch.Size([16, 256])\n",
      "embedding torch.Size([16, 256, 512])\n"
     ]
    }
   ],
   "source": [
    "b = 16\n",
    "a = torch.randn(b, 3, 64, 64)\n",
    "\n",
    "maxpool1 = nn.MaxPool2d(kernel_size=[2, 2], stride=2)\n",
    "maxpool2 = nn.MaxPool2d(kernel_size=[8, 8], stride=1, padding=0)\n",
    "\n",
    "conv1 = nn.Conv2d(in_channels=3, out_channels=256, kernel_size=[7, 7], stride=2, padding=3, bias=False)\n",
    "conv2 = nn.Conv2d(in_channels=256, out_channels=512, kernel_size=[7, 7], stride=2, padding=3, bias=False)\n",
    "conv3 = nn.Conv2d(in_channels=512, out_channels=512, kernel_size=[3, 3], stride=1, padding=1)\n",
    "conv4 = nn.Conv2d(in_channels=512, out_channels=20000, kernel_size=[3, 3], stride=1, padding=1)\n",
    "\n",
    "\n",
    "inter1 = nn.Linear(20000, 256)\n",
    "inter2 = nn.Linear(256, 20000)\n",
    "deconv1 = nn.ConvTranspose2d(in_channels=20000, out_channels=512, kernel_size=[7, 7], padding=0)\n",
    "\n",
    "tokenizer = nn.Embedding(num_embeddings=20000, embedding_dim=512)\n",
    "\n",
    "start_time=time.time()\n",
    "print(a.shape)\n",
    "a = conv1(a)\n",
    "print(a.shape)\n",
    "a = conv2(a)\n",
    "print(a.shape)\n",
    "a = conv3(a)\n",
    "print(a.shape)\n",
    "a = conv4(a)\n",
    "print(a.shape)\n",
    "\n",
    "embedding = torch.argmax(a, dim=1)\n",
    "print('embedding', embedding.shape)\n",
    "embedding = embedding.view(b, embedding.shape[-1]*embedding.shape[-2])\n",
    "print('embedding', embedding.shape)\n",
    "embedding = tokenizer(embedding)\n",
    "print('embedding', embedding.shape)"
   ]
  },
  {
   "cell_type": "code",
   "execution_count": null,
   "metadata": {},
   "outputs": [],
   "source": []
  }
 ],
 "metadata": {
  "accelerator": "GPU",
  "colab": {
   "name": "Visual Token Sample.ipynb",
   "provenance": []
  },
  "kernelspec": {
   "display_name": "Python 3",
   "language": "python",
   "name": "python3"
  },
  "language_info": {
   "codemirror_mode": {
    "name": "ipython",
    "version": 3
   },
   "file_extension": ".py",
   "mimetype": "text/x-python",
   "name": "python",
   "nbconvert_exporter": "python",
   "pygments_lexer": "ipython3",
   "version": "3.7.1"
  }
 },
 "nbformat": 4,
 "nbformat_minor": 4
}
