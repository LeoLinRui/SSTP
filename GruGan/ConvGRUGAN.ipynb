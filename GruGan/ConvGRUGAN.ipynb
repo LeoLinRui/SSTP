{
 "cells": [
  {
   "cell_type": "code",
   "execution_count": 1,
   "id": "handmade-archives",
   "metadata": {},
   "outputs": [],
   "source": [
    "from ConvGRU import ConvGRU, ConvGRUCell\n",
    "from reformer_pytorch import Reformer\n",
    "\n",
    "import argparse\n",
    "import os\n",
    "import sys\n",
    "import numpy as np\n",
    "import math\n",
    "import pickle\n",
    "import cv2 as cv\n",
    "import matplotlib\n",
    "import matplotlib.pyplot as plt\n",
    "import random\n",
    "from cv2 import VideoWriter, VideoWriter_fourcc, imread\n",
    "\n",
    "import torchvision.transforms as transforms\n",
    "from torchvision.utils import save_image\n",
    "\n",
    "from torch.utils.data import Dataset, DataLoader\n",
    "from torchvision import datasets\n",
    "from torch.autograd import Variable\n",
    "from torch.cuda.amp import autocast, GradScaler\n",
    "\n",
    "import torch.nn as nn\n",
    "import torch.nn.functional as F\n",
    "import torch\n",
    "import torchvision\n",
    "\n",
    "import warnings\n",
    "torch.cuda.set_device(1)"
   ]
  },
  {
   "cell_type": "code",
   "execution_count": 2,
   "id": "laden-grass",
   "metadata": {},
   "outputs": [],
   "source": [
    "conv = ConvGRUCell(input_size=3, hidden_size=16, kernel_size=7, activation=torch.sigmoid).cuda()"
   ]
  },
  {
   "cell_type": "code",
   "execution_count": 3,
   "id": "institutional-water",
   "metadata": {},
   "outputs": [
    {
     "name": "stdout",
     "output_type": "stream",
     "text": [
      "torch.Size([10, 16, 256, 256])\n"
     ]
    }
   ],
   "source": [
    "inp = Variable(torch.Tensor(np.random.randn(10, 3, 256, 256))).cuda()\n",
    "out = conv(inp)\n",
    "print(out.shape)"
   ]
  },
  {
   "cell_type": "code",
   "execution_count": 4,
   "id": "normal-works",
   "metadata": {},
   "outputs": [
    {
     "name": "stdout",
     "output_type": "stream",
     "text": [
      "torch.Size([1, 8192, 512])\n"
     ]
    }
   ],
   "source": [
    "model = Reformer(\n",
    "    dim = 512,\n",
    "    depth = 12,\n",
    "    max_seq_len = 8192,\n",
    "    heads = 8,\n",
    "    lsh_dropout = 0.1,\n",
    "    causal = True\n",
    ").cuda()\n",
    "\n",
    "x = torch.randn(1, 8192, 512).cuda()\n",
    "y = model(x) # (1, 8192, 512)\n",
    "\n",
    "print(y.shape)"
   ]
  },
  {
   "cell_type": "code",
   "execution_count": null,
   "id": "labeled-today",
   "metadata": {},
   "outputs": [],
   "source": [
    "class Generator(nn.Module):\n",
    "    def __init__(self):\n",
    "        super(TemporalDiscriminator, self).__init__()\n",
    "        \n",
    "        self.conv1 = ConvGRUCell(input_size=3, hidden_sizes=[16, 32, 16], kernel_sizes=[3, 3], n_layers=3)"
   ]
  }
 ],
 "metadata": {
  "kernelspec": {
   "display_name": "Python 3",
   "language": "python",
   "name": "python3"
  },
  "language_info": {
   "codemirror_mode": {
    "name": "ipython",
    "version": 3
   },
   "file_extension": ".py",
   "mimetype": "text/x-python",
   "name": "python",
   "nbconvert_exporter": "python",
   "pygments_lexer": "ipython3",
   "version": "3.7.1"
  }
 },
 "nbformat": 4,
 "nbformat_minor": 5
}
