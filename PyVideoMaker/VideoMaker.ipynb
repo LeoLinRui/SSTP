{
 "cells": [
  {
   "cell_type": "markdown",
   "metadata": {},
   "source": [
    "# VideoMaker Library "
   ]
  },
  {
   "cell_type": "markdown",
   "metadata": {},
   "source": [
    "The library is for producing 2D video animations with moving objects that are constructed with the Item class.\n",
    "\n",
    "\n",
    "Item Class\n",
    "- define one element on the canvas\n",
    "- has a class method that takes frame_idx as input and outputs a 3D (C(alpha, RGB), H, W) nd array and a location array (x, y) specifying the location of bottom right cornor\n",
    "\n",
    "Layer Class\n",
    "- wraps Item objects\n",
    "- specifies order (front & back)\n",
    "- enables layer-wise edits through CV2\n",
    "\n",
    "Canvas Class\n",
    "- wraps Layer objects\n",
    "- enables global edits through CV2\n",
    "\n",
    "Camera Class\n",
    "- specifies the field of view (within the canvas) with which the video will be outputted.\n",
    "- specifies the start and end time"
   ]
  },
  {
   "cell_type": "markdown",
   "metadata": {},
   "source": [
    "crop: the (x, y) of the top left and bottom right cornor of the viewing field.\n",
    "util.crop2coordinates()\n",
    "util.crop()"
   ]
  },
  {
   "cell_type": "code",
   "execution_count": null,
   "metadata": {},
   "outputs": [],
   "source": [
    "class Item():\n",
    "    \n",
    "    def __init__(self):\n",
    "    \n",
    "    def __call__(self, idx):\n",
    "        self.idx = int(idx)\n",
    "        \n",
    "        return self.frame, self.location"
   ]
  },
  {
   "cell_type": "code",
   "execution_count": 6,
   "metadata": {},
   "outputs": [],
   "source": [
    "class Layer():\n",
    "    \n",
    "    def __init__(self, location=[0, 0]):\n",
    "        self.item_list = []\n",
    "        self.filter_list = []\n",
    "        self.location = location\n",
    "        \n",
    "    def __call__(self, idx, size):\n",
    "        self.idx = int(idx)\n",
    "        \n",
    "        return self.frame\n",
    "    \n",
    "    def add_item(self, item):\n",
    "        #check if inputs are instances of Item\n",
    "        if type(item) is list:\n",
    "            for i in item:\n",
    "                assert type(i) is Item \n",
    "        else: \n",
    "            assert type(item) is Item \n",
    "        \n",
    "        self.item_list.append(item)\n",
    "        \n",
    "    def add_filter(self, filter):\n",
    "        self.item_list.append(item)"
   ]
  },
  {
   "cell_type": "code",
   "execution_count": null,
   "metadata": {},
   "outputs": [],
   "source": [
    "class Canvas():\n",
    "    def __init__(self):\n",
    "        self.layer_list = []\n",
    "        self.filter_list = []\n",
    "        \n",
    "    def __call__(self, idx, crop):\n",
    "        self.crop_coordinates = util.crop2coordinates(crop)\n",
    "        self.out = np.ndarray(self.size)\n",
    "        for layer in self.layer_list:\n",
    "            layer_out = util.crop(layer(idx), self.crop_coordinates)\n",
    "            self.out = np.vstack(self.out, layer_out)\n",
    "        return self.out\n",
    "    \n",
    "    def add_layer(self, layer):\n",
    "    \n",
    "    def add_filter(self, filter):\n",
    "        self.item_list.append(item)"
   ]
  },
  {
   "cell_type": "code",
   "execution_count": null,
   "metadata": {},
   "outputs": [],
   "source": [
    "class Camera():\n",
    "    def __init__(self, video_save_dir, frames_save_dir，resolution=[1080, 1920]):\n",
    "        \n",
    "    def roll(self, start_idx, end_idx, speed=1, output_video=True, output_frames=False):"
   ]
  }
 ],
 "metadata": {
  "kernelspec": {
   "display_name": "Python 3",
   "language": "python",
   "name": "python3"
  },
  "language_info": {
   "codemirror_mode": {
    "name": "ipython",
    "version": 3
   },
   "file_extension": ".py",
   "mimetype": "text/x-python",
   "name": "python",
   "nbconvert_exporter": "python",
   "pygments_lexer": "ipython3",
   "version": "3.7.1"
  }
 },
 "nbformat": 4,
 "nbformat_minor": 4
}
