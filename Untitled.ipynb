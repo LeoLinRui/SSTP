{
 "cells": [
  {
   "cell_type": "code",
   "execution_count": 5,
   "id": "assured-institution",
   "metadata": {},
   "outputs": [],
   "source": [
    "import torch\n",
    "import torch.nn as nn"
   ]
  },
  {
   "cell_type": "code",
   "execution_count": 16,
   "id": "breeding-sequence",
   "metadata": {},
   "outputs": [
    {
     "name": "stdout",
     "output_type": "stream",
     "text": [
      "torch.Size([1, 1, 16, 16])\n",
      "torch.Size([1, 3000, 2, 2])\n",
      "torch.Size([1, 2, 2])\n",
      "torch.Size([1, 4])\n",
      "torch.Size([1, 4, 256])\n"
     ]
    }
   ],
   "source": [
    "conv = nn.Conv2d(in_channels=1, out_channels=3000, kernel_size=[8,8], stride=8, padding=0)\n",
    "embedder = nn.Embedding(num_embeddings=3000, embedding_dim=256)\n",
    "\n",
    "a = torch.randn(1, 1, 16, 16)\n",
    "print(a.shape)\n",
    "a = conv(a)\n",
    "print(a.shape)\n",
    "a = torch.argmax(a, dim=1)\n",
    "print(a.shape)\n",
    "a = a.view(1, 4)\n",
    "print(a.shape)\n",
    "a = embedder(a)\n",
    "print(a.shape)"
   ]
  },
  {
   "cell_type": "code",
   "execution_count": null,
   "id": "wicked-secretariat",
   "metadata": {},
   "outputs": [],
   "source": []
  }
 ],
 "metadata": {
  "kernelspec": {
   "display_name": "Python 3",
   "language": "python",
   "name": "python3"
  },
  "language_info": {
   "codemirror_mode": {
    "name": "ipython",
    "version": 3
   },
   "file_extension": ".py",
   "mimetype": "text/x-python",
   "name": "python",
   "nbconvert_exporter": "python",
   "pygments_lexer": "ipython3",
   "version": "3.7.1"
  }
 },
 "nbformat": 4,
 "nbformat_minor": 5
}
