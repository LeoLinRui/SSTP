{
 "metadata": {
  "language_info": {
   "codemirror_mode": {
    "name": "ipython",
    "version": 3
   },
   "file_extension": ".py",
   "mimetype": "text/x-python",
   "name": "python",
   "nbconvert_exporter": "python",
   "pygments_lexer": "ipython3",
   "version": "3.7.1"
  },
  "orig_nbformat": 2,
  "kernelspec": {
   "name": "python371jvsc74a57bd04e9488f31262428e0781808bdeaec5268e50dda663706159f87a22eb0fac1a13",
   "display_name": "Python 3.7.1 64-bit ('pd': conda)"
  }
 },
 "nbformat": 4,
 "nbformat_minor": 2,
 "cells": [
  {
   "cell_type": "code",
   "execution_count": null,
   "metadata": {
    "tags": []
   },
   "outputs": [],
   "source": [
    "import json\n",
    "import os\n",
    "import re\n",
    "import bz2\n",
    "\n",
    "from emoji import UNICODE_EMOJI\n",
    "from langdetect import detect\n",
    "\n",
    "\n",
    "ENGLISH_ONLY = True\n",
    "NO_RT = True\n",
    "LEN_LIMIT = None\n",
    "REMOVE_EMOJI = True\n",
    "\n",
    "\n",
    "work_dir = r\"C:\\Users\\Leo's PC\\Desktop\\JS_Folder\"\n",
    "content = []\n",
    "\n",
    "\n",
    "def checkEng(text:str):\n",
    "    if ENGLISH_ONLY:\n",
    "        return detect(text) == 'en'\n",
    "    else:\n",
    "        return True\n",
    "\n",
    "\n",
    "def checkRT(text:str):\n",
    "    if NO_RT:\n",
    "        return not text.startswith('RT')\n",
    "    else:\n",
    "        return True\n",
    "\n",
    "\n",
    "def checkLen(text:str):\n",
    "    if LEN_LIMIT is not None:\n",
    "        return len(text) >= LEN_LIMIT\n",
    "    else:\n",
    "        return True\n",
    "\n",
    "\n",
    "def removeEmojis(data):\n",
    "\n",
    "    emoj = re.compile(\"[\"\n",
    "        u\"\\U0001F600-\\U0001F64F\"  # emoticons\n",
    "        u\"\\U0001F300-\\U0001F5FF\"  # symbols & pictographs\n",
    "        u\"\\U0001F680-\\U0001F6FF\"  # transport & map symbols\n",
    "        u\"\\U0001F1E0-\\U0001F1FF\"  # flags (iOS)\n",
    "        u\"\\U00002500-\\U00002BEF\"  # chinese char\n",
    "        u\"\\U00002702-\\U000027B0\"\n",
    "        u\"\\U00002702-\\U000027B0\"\n",
    "        u\"\\U000024C2-\\U0001F251\"\n",
    "        u\"\\U0001f926-\\U0001f937\"\n",
    "        u\"\\U00010000-\\U0010ffff\"\n",
    "        u\"\\u2640-\\u2642\" \n",
    "        u\"\\u2600-\\u2B55\"\n",
    "        u\"\\u200d\"\n",
    "        u\"\\u23cf\"\n",
    "        u\"\\u23e9\"\n",
    "        u\"\\u231a\"\n",
    "        u\"\\ufe0f\"  # dingbats\n",
    "        u\"\\u3030\"\n",
    "                      \"]+\", re.UNICODE)\n",
    "\n",
    "    return re.sub(emoj, '', data)\n",
    "\n",
    "\n",
    "for root, _, filenames in os.walk(work_dir):\n",
    "\n",
    "    for filename in filenames:\n",
    "\n",
    "        filedir = os.path.join(root, filename)\n",
    "        print(\"processing\", filedir)\n",
    "        \n",
    "        with bz2.open(filedir) as f:\n",
    "\n",
    "            for line in f:\n",
    "                tweet = json.loads(line)\n",
    "\n",
    "                try:\n",
    "                    tweet = tweet[\"text\"]\n",
    "\n",
    "                    try:\n",
    "                        if checkEng(tweet) and checkRT(tweet) and checkLen(tweet):\n",
    "                            if REMOVE_EMOJI:\n",
    "                                tweet = removeEmojis(tweet)\n",
    "\n",
    "                            content.append(tweet)\n",
    "                    except: # handle No language feature error\n",
    "                        pass\n",
    "                    \n",
    "                except KeyError:\n",
    "                    pass\n",
    "\n",
    "\n",
    "print(len(content), 'Tweets gathered')"
   ]
  },
  {
   "cell_type": "code",
   "execution_count": 128,
   "metadata": {
    "tags": [
     "outputPrepend"
    ]
   },
   "outputs": [
    {
     "output_type": "stream",
     "name": "stdout",
     "text": [
      " #GASEN means. \n\nAll senate committees being chaired by Dems!\n\nNo more Mitch blocking bills, Gr… https://t.co/hBVZvr7crC\n@TreyGibbs28 @JoanofAmerica @SidneyPowell1 @GenFlynn @realDonaldTrump @Paul_Smithfr @LLinWood So they all get pardo… https://t.co/Q0SE6gJEW6\n2020 was bad enough let's not have 2021 start out like this \n@damnit_mann Im so hype seeing a mayor with an Afro https://t.co/eYWlXbSKdO\n@oneplus Which mobile device that I wish to have and dreamed of?\n@chiewui you toooo!!\n@moonboyblues let’s just keep it that way\nThe same ANC gov that has been in power for years chose to not believe in Science and our brothers and sisters died… https://t.co/wNUQnmz4MU\n@SphaYoko The only time I don't wanna touch my meat https://t.co/itwGDwQemM\n@min5raes LAN YAPSA VAR YA HAVASINDAN GEÇİLMEZ ARTIK HER SANİYE BİŞİ YAPAR, MONBEBE KASLARIMA BAKIN, MONBEBE KASLARIM NASIL AY ÇIĞLIK RESMEN\n@RivanR7_ @FIFACrusher Van 21\n@Mayank04086289 @BlankPaperBoy @Akash__Anshuman @ESPNcricinfo Yep I have a filter, it should be like compare stats… https://t.co/sJ8Zw8TqTC\n@AangsAirForces Steve Rogers black clone you mean?\n@VeganFemanistic @Change \n\nIND vs AUS 3rd Test: Rohit Sharma replaces Mayank Agarwal, Navdeep Saini to debut at SCG https://t.co/kYlQJqcoeX\nIDK?!\nWhen Bronny gets drafted\n@thegirlinlust do itttt\n@ColorsTV @RubiDilaik 68\n\n“A room without books is like a body without a soul.”\n\n#BBTrendMasterRubinaDilaik\n....also known as (Nthasya mùkwa) and provides plenty of beer for the bride's father to enjoy with his family elder… https://t.co/wEYKhprzWV\nMartha Stewart's Easy-Bake Oven Umami Pineapple Will Have You Going Back for Seconds!\nThank you Jesus for life atleast I know the money will come in Jesus name..... I am depending on thee \n@melodramaswift1 im trolling tho\ni’m crying omg stop this is so cute and considerate \n@EAlligevel @mortenlund89 @cleantechnica @AukeHoekstra Yes! And Denmark has the same potensial since you have highe… https://t.co/HuTqlevnNN\nthis song. https://t.co/OvjxywrvGm\nNewspaper headlines:\n\nThe Daily Express says the PM sought to reassure the nation on Tuesday, by claiming he was fu… https://t.co/Fs6exII216\n2nd mission of Fallen Order sucks ass\nTHE PHOTOGRAPHS YOUR BOYFRIEND TOOK\nREMEMBER WHEN YOU BROKE YOUR FOOT\n@sihyeonbanana ofc aisha lives in my head rent free \nI mean let’s face it.. we all kind of knew this would happen again.\n@nna Set up WFH gue:\n- Monitor Samsung 49in ultra-wide \n- Stand monitor kayu (Astur stand holder)\n- Hub 3 Slot dari… https://t.co/9mMmGCcKRZ\n@ReallyAmerican1 YES\n( : oticket ) standard   interest  sorry  before  decorate  mushroom … https://t.co/KrJ18zglk6\none person unfollowed me // automatically checked by https://t.co/h6nrcODaig\nThe Ethiopian Gov’t using the same war tactics from the Derg regime to starve innocent civilians in Tigray. Hunger… https://t.co/dBSnfuAPRi\nI watched, I came, I voted for @iamspanishdoll for the #AVN @AVNAwards https://t.co/QmvKJpCXr3 on #AVNStars\n@Chuddytwits Very rubbish.\nTastes like Bullet for me.\n@SamanthaShawX But cold of outdoor fun, but ok :)\n@supers4iy4nkid Sweet! You're on my data center!\nDeputies believe speed &amp; impairment may have been factors in a single vehicle crash near SE 282 Ave &amp; SE KW Anderso… https://t.co/C4edo225AX\n©Ben&amp;Ben Liwanag's fb post\n: @/hey_rocket\n@bhronosFN @bonzaibtw maybe my addy isnt strong enough\nDream High 1\n@Yoonkibooty Your scholarship is how much\n@TeamYouTube\n my channel was terminated by mistake. \nI'm sure that there is no violation of YouTube community guide… https://t.co/ZgToafpECl\n.@izzywitda302 Hey, I noticed you tweeted about Lil Wayne - check out this tweet to learn about Lil Wayne's album p… https://t.co/hKPNBxlZiR\nWHAT THE FUCK IS HE SO PRETTY FOR https://t.co/qkvMk0i6m0\nwhat a stressful day, i need food \n@caylenxpaiz stopppp love youuuu\n@ShopeeID GIVEN TAKEN \n#AlbumEnhypenDariShopee\nGIVEN TAKEN \n#AlbumEnhypenDariShopee\nGIVEN TAKEN… https://t.co/xgTsQwPk64\nClimate crisis will cause falling humidity in global cities – study https://t.co/2012aSfMbO\nI called this in November last year.  America manufacturing propaganda against Iran to further its agenda of imperi… https://t.co/q3zsdZ8ICB\n@urbandictionary shut up\n@anand32153054 Hi Anand, we request you to contact the nearest branch or call us on 18004250018 for your further assistance. Thank you!\n@ColorsTV You all slowed down again! Why? \n\n#BBTrendMasterRahulVaidya 3\nBathong M'Foyin, how art thee upon this very august morning? \ntaejin always have fun on stage https://t.co/eTOrDNRp6r\n@sebong_17carat Hi Lenny, my album safely arrived to me today. Thank you very much  Stay safe and love you ...\nVer… https://t.co/QkcdCvd6hn\n@ScottZILWarrior @Inhodl_digital @FastFreeCrypto @jedgamez Done^^ https://t.co/nTf4DIBgoY\n@Katsuko_Maru @PittsburghPG I am questioning your sincerity about this.\n@BeccCobain News media needs the drama\n1) Crypto crack down\n2) Bureaucracy in fund transfers \n3) Strict control on capital \n\nThese are three challenges in… https://t.co/LdoX5rm3gR\n#ZenVerse\n\nWhat dreams are these of new beginnings?\nSunlight glistens, winter's winnings.\nThe morning after tomorro… https://t.co/e3wTBexcCN\nthis is the best song ever https://t.co/g784auLONZ\n@SenatorLoeffler Yes, today is the day that GA sends you packing. Our voices were heard.\nstop this is so funny\n@suebeeak @MaranieRae Being annoying is not a n offense that can be prosecuted.  You can be mad, sure, but being a… https://t.co/0u3x8USSQ1\n@missabbymiles @miss_wiggin @PESSPAprimary @rooneyboi93 @MrPow_Teaches @MrEllis20 @MrEFinch Hi,\nThis looks like a f… https://t.co/BFrXsQ4qao\n@girIsjnk wait what’s going on?\n@idmxrottws JAJAJAJ BUENO NO TANTO\n@LinaHidalgoTX TEXAS WILL STAY RED.. IF NOT WE WILL BRING BACK THE SPIRIT OF 1836.\n@Nico_trainwreck Good morning Nico, and thank you!\n@MarketScientist @saketreddy @JeevanRath @AnyBodyCanFly @AmitabhJha3 @ms89_meet @datta_arvind thank you - which one are those 6 sir?\n@Scarface_OAP We go use he hand trace am\n@cryptogems555 Thank you so much  https://t.co/qGEXHUt9GD\nthat jus made me so uncomfortable but k !\n@SophieGao44 https://t.co/5Z0qMqSLAK\nBest part of this RUN BTS. They didn't give up till the end.  What a spirit  https://t.co/okM41tOGmq\n@RealMFlynnJr @marcorubio @SenRickScott @realDonaldTrump 2timid fake Americans who must b compromised by Communist… https://t.co/4LlIt4CFgk\ni can’t believe u guys actually like my art. i wake up excited to share what i’ve created with all of you\n@itchy_wolfie Well .... Di siya practical gamitin. Walang sabitan ng car keys and hirap kunin things from inside.\n\n\nThe most recent artwork uploaded to the PERMANENT EXHIBITION on TWITTER: \nA STRETCH OF THE GUADALQUIVIR RIVER\n@Itshazelogy1 Teh, penge digits mo \nKC Concepcion shares birthday message for mom Sharon https://t.co/FI5YDFHQRK\n@chinmaymayjain C in Chinmay stands for Chutiya\n@tylarth3creator As you should\nAm I aware that all politicians are not good people? Yeah. Dem or Repub they can still be shitty people. \nBut if on… https://t.co/aMjVEV6BcK\nIn the sphere of #love as in any other, there is a need to normalise that the only feeling love should afford is be… https://t.co/SCD22MBnSq\n#JOEYxArrival\nTreasure photocard from reseller reached me.Will dm buyers https://t.co/DBPpZWGtZo\n@officialmcafee This is so sad, the crypto market I use does not have WHACKD, guess I have to stick with Dogecoin.… https://t.co/6rCNLszM07\n@bighit_united you can't stop me loving myself anjir\n@orangexcookie he's so cute isn't he? \n@cmkshama Shame on you Imperialist !\n@ellemich7 Soup content is the content I needed.\n@ccarpetmatches Mm!...Convinced. I'll come more often! You're not too bad yourself. \n\n[ She wants to tease him she… https://t.co/9bwuiNQchX\nA school in Manchester (I think) maybe Sheffield has identified all its pupils as at risk.\n Many teenagers and young people are very engaged with what's going on in the world at the moment. \n\nHow you can h… https://t.co/e5Ao5mA92q\n@milkteaduckie @ltyswift @bwtrilogy hmmm https://t.co/1KC34MGUiD\nHigh lit rn tipsy\n@n0che_ss Heyyy\n@BeeRyce__ @BravelySolo bro said \"DRAKKKKEE?!!?\" like this was the ultimate surprise \n@realDonaldTrump Big news....Trump has still no BRAIN\nSo, A virologist agrees that the lab records should be checked! Wow! Atleast we know what they want!\nThanks… https://t.co/QIx8JXiyus\n@JitendraAsansol @MamataOfficial #HappyBirthdayDidi\nI love San Diego  I’m really hoping things calm down by March bc.. I FOUND THE PERFECT HOUSE TO CELEBRATE MY BIRTHDAY\nMy HD video showing Tuesday's weather (5/1/2021) is now on YouTube:\nThese statements can cause a very big chaos. It hurts.. but it's something that we should ponder on, really and sta… https://t.co/v1jc0xmYyK\nWhen will you give yourself permission to start doing what's right for you? https://t.co/z4s5ziozmd\nCOVID-19 has fuelled a global ‘learning poverty’ crisis https://t.co/gAJyh3ksVQ #education #COVID19 https://t.co/IMAgTn73cX\n@hhjrose @IWantHansLegs @Stray_Kids hi soulmate :DD\n@realDonaldTrump @Mike_Pence We trust VP Pence\n@Beni8th @notryutzu @Bumassdude Yeah we know, but still yuji been out\n@kimberlydisney Go to sleep. I really think of Katie Porter says it’s over for Moscow Mitch then it is.\n@loudthorpe @MrJonCryer .\nJanuary 21, 2021: \nThe Racketeering and \nCrimes Investigation of the Trump Administration  &amp; Trump Organization\nWhat is #Bitcoin mining https://t.co/iRaqfLuXoa\n@SenatorLoeffler bye #RobotBarbie! Time to update your handle; you’re no longer a senator. Apparently money can’t buy everything.\nOur WCW is Omobolade Oladepo. She is a television presenter,  producer and a voice over artist. She is our woman cr… https://t.co/vS8pIDPhtj\nMember of Shinoda Team A, AKB48 #Annafact\n@_Etibaby @ShoeGuyOtis Try am \nIf you invest $1000 in $AMTB today at $15.31 per share, and the stock prices rebound back to pre-pandemic prices at… https://t.co/QbM40lU4xN\n@alex42809908 @PegidaCanada @jackandjill525 @washingtonpost If I rolled my eyes any harder, I would pull a muscle i… https://t.co/znDtnCQhIY\n@MetroPlayer91 \nColor Theory: How Do #Colors Play A Big Role In #Consumer Behavior? https://t.co/xgnPeLyTST\n@iManasArora Thanks a lot.\n@worlockandrea @UKChange Signed\n@TazrimaHaque @ArmaanMalik22 .\nSame  that nothing  mine also.\n@agavedelacalle smh i thought trump supporters were supposed to be the most well-behaved individuals @breakingdead1… https://t.co/820dWsvY99\n08:17 CET: Forecast for the next 12 hours: Regnerisches Wetter mit heiteren Phasen\nThank you for 5.8k friends. Let me give you'll a free follow on my other account. Just drop your @/. ლ(ლ) https://t.co/BeC4ZmSZvc\n#ASUU\n\nThose with carry over after listening to the news that school reopen soon.\n\nMy dear na your life wey chop ca… https://t.co/gsGwkyDLfk\nYour boyfriend sees you like below en he thinks your thinking about him kumbe your thinking business. https://t.co/kFl0eDqyLA\nGet certified today and make your resume stand out from the crowd! Visit us at https://t.co/0HKXZyITG9 and find out… https://t.co/nDWDG4bm5J\nCustomers visit #websites to research brands and their products before making a purchase,  so impress them today… https://t.co/2jWEDtHyGJ\ndid my best to exist just for you\nSNSD COMEBACK\nSNSD COMEBACK\nSNSD COMEBACK\nSNSD COMEBACK\nhttps://t.co/TdBFFFqYwY\nJust posted a photo https://t.co/eD4E0ZAlcF\n@LilBean_x YOU TOLD ME TO YOU FAKER\nWe’re sorry if we get you guys uncomfortable. We’ll be careful this time. Ily @bbrightvc @winmetawin \n@GRAVE_DOMAIN funky nonverbal lanky they/xe/it/bun w autism babyyyyy !!!!!\n@ApeShxxtt RESPECTFULLY\n@CuriousTrader6 @ManekAgicha @VijayThk @DRuzbeh @rohanmehta_99 @PAVLeader #Airtel \n\n500------531++++\n\nJust Trail s… https://t.co/jWgPfGafPt\n2 people unfollowed me // automatically checked by https://t.co/lXJss2zX8V\n2 people followed me and one person unfollowed me // automatically checked by https://t.co/smvQ5ormdX\n@goal better than lampard \n@FlorianRoux2 @LDeborel Streaming , wiflix\n@Kvng_phancy \nI go slap you.\nNa spittle you wan use rub ur body abi\nsaying this cs im finishing ep7 of in the soop and he’s rlly jus. The best person :(\n@NinetyReb Oh, Well zack was talking about an else world ,alternative , war weary version of  Diana when he Posted… https://t.co/6lW4xGkUBS\nIt's crazy that the first 438 chapters of Kingdom was just a prologue in a way, with the goal of unifying china finally starting at 439\nHe does not trust Jolly, even though he had taught him alchemy.\nToo many people spend money they haven't earned, to buy things they don't want, to impress people they don't like.… https://t.co/KUJGoLvyxv\n@CHlRPl For sure I will, I'm going to rub you hot and hard.\nPitso Mosimane guides Al Ahly into CAF Champions League group stage https://t.co/UhfEiTZkCZ\n@Raja19760123 Hi! I can definitely help you in this matter. I’m currently reviewing your account information with m… https://t.co/GKsXByARxk\n@sichengswift then i guess you’ll never know the truth behind little pogchamp...\n@hbrlbb @noitsmchelle looking at you babe\n@killemwithgrace \n.@reddit is hiring   Staff Data Scientist, Econ Analytics (San Francisco) https://t.co/YkyOQswhLh\nEchando leche\n@GallagherWitt What in the actual f**k??!!  \nMen who still want to cling to this mindset are truly the weakest… https://t.co/cTus6TKvwa\nDemocrat Raphael Warnock's victory over Sen. Kelly Loeffler means the balance of power in the Senate will be decide… https://t.co/iFbHcoxig7\n@AlixJoan1 @ClareCraigPath @NicolaSturgeon Incidentally, seeking perspective, the number of 'deaths from all causes… https://t.co/VbJvB0XJHB\n* of FUCK MY LIFE\nBest place on earth \nplay (never heard of it but it sounds fire)\n@princessoinka @Paulie49 @jjs79 @GylesB1 If that's the case your school is the first in the world to have student t… https://t.co/GZZavJG3TT\n@HalloFeld The price all articles quote in Israeli currency is 300K NIS, which is currently 94K USD.\n\nNot unusual -… https://t.co/7BBLypeSej\n@Atticus733 Omg just waking up, this is amazing news. Trump will blow a gasket \nA look at how poverty is still an important driver behind children ending up in alternative care and particularly i… https://t.co/g7cmXZboXr\nCUPOM JANEIRO ANO NOVO RAPPI JANEIRO 06/01/2021 - DELIVERY RESTAURANTES, SUPERMERCADOS, LOJAS E FARMÁCIA - CADASTRE… https://t.co/rWR0ug1oik\nsometimes the world doesn’t revolve around you ((;\n@TheTrustedLiar \n@BigPimpinThoe Your gonna end up like @AndyTheLndShark without storage\nBernie Sanders was talking real heavy the past few years about what agendas he wanted to implement. Now we see if it was all talk.\nILL LEAVE THE CLASS\n@Rising_REBELION Fake news\nmen with no hobbies stop trying to get a hit tweet off of kpop stans - t\n@LaprioArcaena I don't really have a crush on them, but I think @SerpentineCiCi, @piyochuu_, @AliRevengeance,… https://t.co/ndFCa6Bfnd\nCheck out what I just added to my closet on Poshmark:  Last set! 10 Beautiful blue rose hair pins.… https://t.co/54BgRtKgt6\nIf only doordash support actually fucking answered the phone.\n06-01-2021 07:30:01 https://t.co/MbAeCJeM9Y #BlastFMCountry  Simone Reyes - I'm Ready\nI’m trippin off how much I can get done when my leg isn’t numb from sciatica\n@thecalikete @iPandarina @Loulogio_Pi \n@soulfelton TENES RAZÓN MEJOR LO BORRO\nJust posted a photo https://t.co/sohrl0x1G0\n‘You’re So Fine’: No New Year Blues For Little Walter | uDiscover https://t.co/tjD5PtpTKo\n@GovindDotasra @ajaymaken @INCRajasthan @RajGovOfficial माननीय शिक्षा मंत्री जी आपका आभार https://t.co/vBJNznEkHq\n@seokhyunjn i miss him so muchh :( https://t.co/NWcbJHC55b\nI have been trying to not put undue pressure on myself for not accomplishing everything I want to do in a day or week.\n@NPR I thought I remember this being a BOGO situation\n@sheikhaannisa you can only view a tweet's activity when it's your own tweet. basically they posted an ss of a tweet they made lol\n@sxbahkhxn Not my problem if twitter suspends me for 25 Time \n@Mrbankstips @chemicalbrodar @Minento8 come and answer\nThis is actual fact\nCelsius Network Announces Plans to Add Cardano (ADA) to its Supported Cryptocurrency Deposit List by Q2 2021!  … https://t.co/kyurrb3EGm\nI cant wait for the SONA  Mdidi will be flying everywhere @ChrisExcel102 is vicious \n\n #TwitterElectionResults https://t.co/RIC2bRDxf1\nMoney is time and time is money\n@SnipesXRage @FbeachSabrina @DecisionDeskHQ @repjohnlewis Oh, that wasn't meant to imply he went to hell. We just d… https://t.co/KiEAMZxS3Q\n@ckennethgarcia iza prank hahahhss\n@stuartpstevens @Perduesenate Trmp Light\nLets start. \n\nStart mass commenting for 30 mins.. Nonstop\nmy printer is about to HATE me\nWmk! \nDekh lain o fuddu jo protest site nu picnic spot dasde.\n\n#WorldSupportIndianFarmers \n\n#FarmersProtest\n@FitzVotes @EndHateRadio I said the same thing! I’m going to travel to Savannah &amp; Atlanta &amp; MLK and all over and sp… https://t.co/Ozep1jhrAc\nBut they bragging. Thats why what I'm doing? I'm destroying them. I'm DESTROYING them.\nyou do what you want when you popping \nThis vegetable plate is bomb! &amp; who knew Injera had so many benefits.\n@sootarchive goodnight!! sleep well :]\nhttps://t.co/vKAS2hJHtN: https://t.co/jOqra8kdaE possibly contains credentials #databreach #email_leak #ghostbin #dataleak\n@CTRavi_BJP @BSYBJP #RemoveUsFromScheduleCaste https://t.co/8KHTJQ7dFN\n#Splatoon2 #2 #NintendoSwitch https://t.co/ypDpFk02fm\n@washingtonpost #GND #Medicare4All\n@Yoonsmoon_ just the first 15-16 that are available before daily pass\nOmg this is scary and interesting at the same time I love it\nالسيارات عشق.. https://t.co/Ft0es5w1XS\n\nTrending in Automotive.. https://t.co/Ft0es5w1XS #ad https://t.co/Nu9JrBLX29\nNow Playing Myron Butler - We Are Not Ashamed  ft. Kim Burrell\n@BobDibuono It will all come out...\nwe are! thank u misty hope we interact more \n@7LVRS you should !! i’ve been trying to exercise daily and it’s been tough but seeing you talk about it might help others\nwho’s giving me headpats? I’ll be a good little puppy for you, Daddy. \n@_iammaaz_ @AsimMeriJaan lol your calculation is wrong or mine?\n13th ko BDay hai.\nAj ka day include Karo to it's 7 days\n@gemmadowneswba Happy Birthday Tilly. Xx\n$MVIS Initiated a swing position at $5.21 with stop loss at $4.8 since it is riskier to jump the gun before it has… https://t.co/mIxdoNa4K7\nAll clear, my love?\n@finewlt91 SIM AGORA ME RESPONDE NO WHATS \n@sanghaviharsh Happy birthday cutie pie  God bless you\n@hal_incandenza4 @ezraklein Haha, yeah. We just couldn't talk ourselves into doing good things.\n@MamiHndrx Meanwhile I'm scrolling Twitter. My baby girl KO. And him... He over here screaming at me in intervals fighting his sleep \nCouple more hours and we out here\n@starry_shie BERCANDAAA AKU MAU LIGHTSTICK KAKK AYO LIRIK AKU YG GAPERNA MENANG GA\n@ColorsTV 173.\nMorning\n#BBTrendMasterRahulVaidya\none person followed me // automatically checked by https://t.co/yK3J2oTR97\n?)\n\nPlug fingers\n\nRimbaud the one your with\n@ColorsTV @RubiDilaik \n\n#BBTrendMasterRubinaDilaik\nDo it fast Guy's 24\nBlack man did something amazing\n@kylenabecker My wife-elect &amp; I were talking about this. We talked about moving too, but where is there left to go… https://t.co/u5M9AQLpCP\n@AHGASISters_ @EjayePark @JerryAnnVelard1 @_jjayb @jbeom_\nSorry for the tags\n\nHAPPY BIRTHDAY JAEBEOM… https://t.co/2jlqnkQpR1\n¡Mira la transmisión de mi PlayStation 4! #PS4live (Duke Nukem 3D: 20th Anniversary World Tour)  live at https://t.co/JMK64UPJyl\najr makes good music its time we accept it\nthis is true!\nhi there!\nThere is nothing as wonderful as a song coming on shuffle that you really really needed in that moment.\n@BrdzMelody Comme toi \n@taynewzealot @Tawan_V sorry he is so cute here but I think something not good huhuhu im shy \n@s3rendipify0 very cute !! Extra points for the Felix dp\n...and the 2nd-handers who so badly wanted the $2k!\n@RepMattGaetz Screw that. These MFers don't get it. Or do they understand we're going to war and are invested in it?\n@marshiana413 @realDonaldTrump @Mike_Pence As a Christian? What does Christianity have to do with this? Trump was n… https://t.co/dcBx6gUME4\n"
     ]
    }
   ],
   "source": [
    "for i in content[:500]:\n",
    "    print(i)"
   ]
  },
  {
   "cell_type": "code",
   "execution_count": 1,
   "metadata": {},
   "outputs": [
    {
     "output_type": "stream",
     "name": "stdout",
     "text": [
      "91 files found.\nthreading across 32 cpu\n"
     ]
    }
   ],
   "source": [
    "import json\n",
    "import os\n",
    "import re\n",
    "import bz2\n",
    "\n",
    "from multiprocessing import cpu_count, Pool\n",
    "from langdetect import detect\n",
    "\n",
    "\n",
    "ENGLISH_ONLY = True\n",
    "NO_RT = True\n",
    "LEN_LIMIT = None\n",
    "REMOVE_EMOJI = True\n",
    "\n",
    "work_dir = r\"C:\\Users\\Leo's PC\\Desktop\\JS_Folder\"\n",
    "\n",
    "\n",
    "def process(filedir:str):\n",
    "    print(\"processing\", filedir)\n",
    "    content = []\n",
    "\n",
    "    with bz2.open(filedir) as f:\n",
    "\n",
    "        for line in f:\n",
    "            tweet = json.loads(line)\n",
    "\n",
    "            try:\n",
    "                tweet = tweet[\"text\"]\n",
    "\n",
    "                try:\n",
    "                    if checkEng(tweet) and checkRT(tweet) and checkLen(tweet):\n",
    "                        if REMOVE_EMOJI:\n",
    "                            tweet = removeEmojis(tweet)\n",
    "\n",
    "                        content.append(tweet)\n",
    "                except: # handle No language feature error\n",
    "                    pass\n",
    "                \n",
    "            except KeyError:\n",
    "                pass\n",
    "    return content\n",
    "\n",
    "dir_list = []\n",
    "\n",
    "for root, _, filenames in os.walk(work_dir):\n",
    "    for filename in filenames:\n",
    "        dir_list.append(os.path.join(root, filename))\n",
    "\n",
    "print(len(dir_list), \"files found.\")\n",
    "\n",
    "\n",
    "print(\"threading across {} cpu\".format(cpu_count()))\n",
    "pool = Pool(len(dir_list))\n",
    "tweet_list = pool.map(process, dir_list)\n",
    "\n",
    "print(len(tweet_list), 'Tweets gathered')"
   ]
  },
  {
   "cell_type": "code",
   "execution_count": null,
   "metadata": {},
   "outputs": [],
   "source": [
    "from threading import Thread\n",
    "\n",
    "for task in dir_list:\n",
    "    t = Thread(target=process, args=(task,))\n",
    "    t.start()"
   ]
  }
 ]
}