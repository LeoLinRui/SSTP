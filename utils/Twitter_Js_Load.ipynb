{
 "metadata": {
  "language_info": {
   "codemirror_mode": {
    "name": "ipython",
    "version": 3
   },
   "file_extension": ".py",
   "mimetype": "text/x-python",
   "name": "python",
   "nbconvert_exporter": "python",
   "pygments_lexer": "ipython3",
   "version": "3.7.1"
  },
  "orig_nbformat": 2,
  "kernelspec": {
   "name": "python371jvsc74a57bd04e9488f31262428e0781808bdeaec5268e50dda663706159f87a22eb0fac1a13",
   "display_name": "Python 3.7.1 64-bit ('pd': conda)"
  }
 },
 "nbformat": 4,
 "nbformat_minor": 2,
 "cells": [
  {
   "cell_type": "code",
   "execution_count": null,
   "metadata": {
    "tags": []
   },
   "outputs": [],
   "source": [
    "import json\n",
    "import os\n",
    "import re\n",
    "import bz2\n",
    "\n",
    "from emoji import UNICODE_EMOJI\n",
    "from langdetect import detect\n",
    "\n",
    "\n",
    "ENGLISH_ONLY = True\n",
    "NO_RT = True\n",
    "LEN_LIMIT = None\n",
    "REMOVE_EMOJI = True\n",
    "\n",
    "\n",
    "work_dir = r\"C:\\Users\\Leo's PC\\Desktop\\JS_Folder\"\n",
    "content = []\n",
    "\n",
    "\n",
    "def checkEng(text:str):\n",
    "    if ENGLISH_ONLY:\n",
    "        return detect(text) == 'en'\n",
    "    else:\n",
    "        return True\n",
    "\n",
    "\n",
    "def checkRT(text:str):\n",
    "    if NO_RT:\n",
    "        return not text.startswith('RT')\n",
    "    else:\n",
    "        return True\n",
    "\n",
    "\n",
    "def checkLen(text:str):\n",
    "    if LEN_LIMIT is not None:\n",
    "        return len(text) >= LEN_LIMIT\n",
    "    else:\n",
    "        return True\n",
    "\n",
    "\n",
    "def removeEmojis(data):\n",
    "\n",
    "    emoj = re.compile(\"[\"\n",
    "        u\"\\U0001F600-\\U0001F64F\"  # emoticons\n",
    "        u\"\\U0001F300-\\U0001F5FF\"  # symbols & pictographs\n",
    "        u\"\\U0001F680-\\U0001F6FF\"  # transport & map symbols\n",
    "        u\"\\U0001F1E0-\\U0001F1FF\"  # flags (iOS)\n",
    "        u\"\\U00002500-\\U00002BEF\"  # chinese char\n",
    "        u\"\\U00002702-\\U000027B0\"\n",
    "        u\"\\U00002702-\\U000027B0\"\n",
    "        u\"\\U000024C2-\\U0001F251\"\n",
    "        u\"\\U0001f926-\\U0001f937\"\n",
    "        u\"\\U00010000-\\U0010ffff\"\n",
    "        u\"\\u2640-\\u2642\" \n",
    "        u\"\\u2600-\\u2B55\"\n",
    "        u\"\\u200d\"\n",
    "        u\"\\u23cf\"\n",
    "        u\"\\u23e9\"\n",
    "        u\"\\u231a\"\n",
    "        u\"\\ufe0f\"  # dingbats\n",
    "        u\"\\u3030\"\n",
    "                      \"]+\", re.UNICODE)\n",
    "\n",
    "    return re.sub(emoj, '', data)\n",
    "\n",
    "\n",
    "for root, _, filenames in os.walk(work_dir):\n",
    "\n",
    "    for filename in filenames:\n",
    "\n",
    "        filedir = os.path.join(root, filename)\n",
    "        print(\"processing\", filedir)\n",
    "        \n",
    "        with bz2.open(filedir) as f:\n",
    "\n",
    "            for line in f:\n",
    "                tweet = json.loads(line)\n",
    "\n",
    "                try:\n",
    "                    tweet = tweet[\"text\"]\n",
    "\n",
    "                    try:\n",
    "                        if checkEng(tweet) and checkRT(tweet) and checkLen(tweet):\n",
    "                            if REMOVE_EMOJI:\n",
    "                                tweet = removeEmojis(tweet)\n",
    "\n",
    "                            content.append(tweet)\n",
    "                    except: # handle No language feature error\n",
    "                        pass\n",
    "                    \n",
    "                except KeyError:\n",
    "                    pass\n",
    "\n",
    "\n",
    "print(len(content), 'Tweets gathered')"
   ]
  },
  {
   "cell_type": "code",
   "execution_count": 128,
   "metadata": {
    "tags": [
     "outputPrepend"
    ]
   },
   "outputs": [
    {
     "output_type": "stream",
     "name": "stdout",
     "text": [
      " #GASEN means. \n\nAll senate committees being chaired by Dems!\n\nNo more Mitch blocking bills, Gr… https://t.co/hBVZvr7crC\n@TreyGibbs28 @JoanofAmerica @SidneyPowell1 @GenFlynn @realDonaldTrump @Paul_Smithfr @LLinWood So they all get pardo… https://t.co/Q0SE6gJEW6\n2020 was bad enough let's not have 2021 start out like this \n@damnit_mann Im so hype seeing a mayor with an Afro https://t.co/eYWlXbSKdO\n@oneplus Which mobile device that I wish to have and dreamed of?\n@chiewui you toooo!!\n@moonboyblues let’s just keep it that way\nThe same ANC gov that has been in power for years chose to not believe in Science and our brothers and sisters died… https://t.co/wNUQnmz4MU\n@SphaYoko The only time I don't wanna touch my meat https://t.co/itwGDwQemM\n@min5raes LAN YAPSA VAR YA HAVASINDAN GEÇİLMEZ ARTIK HER SANİYE BİŞİ YAPAR, MONBEBE KASLARIMA BAKIN, MONBEBE KASLARIM NASIL AY ÇIĞLIK RESMEN\n@RivanR7_ @FIFACrusher Van 21\n@Mayank04086289 @BlankPaperBoy @Akash__Anshuman @ESPNcricinfo Yep I have a filter, it should be like compare stats… https://t.co/sJ8Zw8TqTC\n@AangsAirForces Steve Rogers black clone you mean?\n@VeganFemanistic @Change \n\nIND vs AUS 3rd Test: Rohit Sharma replaces Mayank Agarwal, Navdeep Saini to debut at SCG https://t.co/kYlQJqcoeX\nIDK?!\nWhen Bronny gets drafted\n@thegirlinlust do itttt\n@ColorsTV @RubiDilaik 68\n\n“A room without books is like a body without a soul.”\n\n#BBTrendMasterRubinaDilaik\n....also known as (Nthasya mùkwa) and provides plenty of beer for the bride's father to enjoy with his family elder… https://t.co/wEYKhprzWV\nMartha Stewart's Easy-Bake Oven Umami Pineapple Will Have You Going Back for Seconds!\nThank you Jesus for life atleast I know the money will come in Jesus name..... I am depending on thee \n@melodramaswift1 im trolling tho\ni’m crying omg stop this is so cute and considerate \n@EAlligevel @mortenlund89 @cleantechnica @AukeHoekstra Yes! And Denmark has the same potensial since you have highe… https://t.co/HuTqlevnNN\nthis song. https://t.co/OvjxywrvGm\nNewspaper headlines:\n\nThe Daily Express says the PM sought to reassure the nation on Tuesday, by claiming he was fu… https://t.co/Fs6exII216\n2nd mission of Fallen Order sucks ass\nTHE PHOTOGRAPHS YOUR BOYFRIEND TOOK\nREMEMBER WHEN YOU BROKE YOUR FOOT\n@sihyeonbanana ofc aisha lives in my head rent free \nI mean let’s face it.. we all kind of knew this would happen again.\n@nna Set up WFH gue:\n- Monitor Samsung 49in ultra-wide \n- Stand monitor kayu (Astur stand holder)\n- Hub 3 Slot dari… https://t.co/9mMmGCcKRZ\n@ReallyAmerican1 YES\n( : oticket ) standard   interest  sorry  before  decorate  mushroom … https://t.co/KrJ18zglk6\none person unfollowed me // automatically checked by https://t.co/h6nrcODaig\nThe Ethiopian Gov’t using the same war tactics from the Derg regime to starve innocent civilians in Tigray. Hunger… https://t.co/dBSnfuAPRi\nI watched, I came, I voted for @iamspanishdoll for the #AVN @AVNAwards https://t.co/QmvKJpCXr3 on #AVNStars\n@Chuddytwits Very rubbish.\nTastes like Bullet for me.\n@SamanthaShawX But cold of outdoor fun, but ok :)\n@supers4iy4nkid Sweet! You're on my data center!\nDeputies believe speed &amp; impairment may have been factors in a single vehicle crash near SE 282 Ave &amp; SE KW Anderso… https://t.co/C4edo225AX\n©Ben&amp;Ben Liwanag's fb post\n: @/hey_rocket\n@bhronosFN @bonzaibtw maybe my addy isnt strong enough\nDream High 1\n@Yoonkibooty Your scholarship is how much\n@TeamYouTube\n my channel was terminated by mistake. \nI'm sure that there is no violation of YouTube community guide… https://t.co/ZgToafpECl\n.@izzywitda302 Hey, I noticed you tweeted about Lil Wayne - check out this tweet to learn about Lil Wayne's album p… https://t.co/hKPNBxlZiR\nWHAT THE FUCK IS HE SO PRETTY FOR https://t.co/qkvMk0i6m0\nwhat a stressful day, i need food \n@caylenxpaiz stopppp love youuuu\n@ShopeeID GIVEN TAKEN \n#AlbumEnhypenDariShopee\nGIVEN TAKEN \n#AlbumEnhypenDariShopee\nGIVEN TAKEN… https://t.co/xgTsQwPk64\nClimate crisis will cause falling humidity in global cities – study https://t.co/2012aSfMbO\nI called this in November last year.  America manufacturing propaganda against Iran to further its agenda of imperi… https://t.co/q3zsdZ8ICB\n@urbandictionary shut up\n@anand32153054 Hi Anand, we request you to contact the nearest branch or call us on 18004250018 for your further assistance. Thank you!\n@ColorsTV You all slowed down again! Why? \n\n#BBTrendMasterRahulVaidya 3\nBathong M'Foyin, how art thee upon this very august morning? \ntaejin always have fun on stage https://t.co/eTOrDNRp6r\n@sebong_17carat Hi Lenny, my album safely arrived to me today. Thank you very much  Stay safe and love you ...\nVer… https://t.co/QkcdCvd6hn\n@ScottZILWarrior @Inhodl_digital @FastFreeCrypto @jedgamez Done^^ https://t.co/nTf4DIBgoY\n@Katsuko_Maru @PittsburghPG I am questioning your sincerity about this.\n@BeccCobain News media needs the drama\n1) Crypto crack down\n2) Bureaucracy in fund transfers \n3) Strict control on capital \n\nThese are three challenges in… https://t.co/LdoX5rm3gR\n#ZenVerse\n\nWhat dreams are these of new beginnings?\nSunlight glistens, winter's winnings.\nThe morning after tomorro… https://t.co/e3wTBexcCN\nthis is the best song ever https://t.co/g784auLONZ\n@SenatorLoeffler Yes, today is the day that GA sends you packing. Our voices were heard.\nstop this is so funny\n@suebeeak @MaranieRae Being annoying is not a n offense that can be prosecuted.  You can be mad, sure, but being a… https://t.co/0u3x8USSQ1\n@missabbymiles @miss_wiggin @PESSPAprimary @rooneyboi93 @MrPow_Teaches @MrEllis20 @MrEFinch Hi,\nThis looks like a f… https://t.co/BFrXsQ4qao\n@girIsjnk wait what’s going on?\n@idmxrottws JAJAJAJ BUENO NO TANTO\n@LinaHidalgoTX TEXAS WILL STAY RED.. IF NOT WE WILL BRING BACK THE SPIRIT OF 1836.\n@Nico_trainwreck Good morning Nico, and thank you!\n@MarketScientist @saketreddy @JeevanRath @AnyBodyCanFly @AmitabhJha3 @ms89_meet @datta_arvind thank you - which one are those 6 sir?\n@Scarface_OAP We go use he hand trace am\n@cryptogems555 Thank you so much  https://t.co/qGEXHUt9GD\nthat jus made me so uncomfortable but k !\n@SophieGao44 https://t.co/5Z0qMqSLAK\nBest part of this RUN BTS. They didn't give up till the end.  What a spirit  https://t.co/okM41tOGmq\n@RealMFlynnJr @marcorubio @SenRickScott @realDonaldTrump 2timid fake Americans who must b compromised by Communist… https://t.co/4LlIt4CFgk\ni can’t believe u guys actually like my art. i wake up excited to share what i’ve created with all of you\n@itchy_wolfie Well .... Di siya practical gamitin. Walang sabitan ng car keys and hirap kunin things from inside.\n\n\nThe most recent artwork uploaded to the PERMANENT EXHIBITION on TWITTER: \nA STRETCH OF THE GUADALQUIVIR RIVER\n@Itshazelogy1 Teh, penge digits mo \nKC Concepcion shares birthday message for mom Sharon https://t.co/FI5YDFHQRK\n@chinmaymayjain C in Chinmay stands for Chutiya\n@tylarth3creator As you should\nAm I aware that all politicians are not good people? Yeah. Dem or Repub they can still be shitty people. \nBut if on… https://t.co/aMjVEV6BcK\nIn the sphere of #love as in any other, there is a need to normalise that the only feeling love should afford is be… https://t.co/SCD22MBnSq\n#JOEYxArrival\nTreasure photocard from reseller reached me.Will dm buyers https://t.co/DBPpZWGtZo\n@officialmcafee This is so sad, the crypto market I use does not have WHACKD, guess I have to stick with Dogecoin.… https://t.co/6rCNLszM07\n@bighit_united you can't stop me loving myself anjir\n@orangexcookie he's so cute isn't he? \n@cmkshama Shame on you Imperialist !\n@ellemich7 Soup content is the content I needed.\n@ccarpetmatches Mm!...Convinced. I'll come more often! You're not too bad yourself. \n\n[ She wants to tease him she… https://t.co/9bwuiNQchX\nA school in Manchester (I think) maybe Sheffield has identified all its pupils as at risk.\n Many teenagers and young people are very engaged with what's going on in the world at the moment. \n\nHow you can h… https://t.co/e5Ao5mA92q\n@milkteaduckie @ltyswift @bwtrilogy hmmm https://t.co/1KC34MGUiD\nHigh lit rn tipsy\n@n0che_ss Heyyy\n@BeeRyce__ @BravelySolo bro said \"DRAKKKKEE?!!?\" like this was the ultimate surprise \n@realDonaldTrump Big news....Trump has still no BRAIN\nSo, A virologist agrees that the lab records should be checked! Wow! Atleast we know what they want!\nThanks… https://t.co/QIx8JXiyus\n@JitendraAsansol @MamataOfficial #HappyBirthdayDidi\nI love San Diego  I’m really hoping things calm down by March bc.. I FOUND THE PERFECT HOUSE TO CELEBRATE MY BIRTHDAY\nMy HD video showing Tuesday's weather (5/1/2021) is now on YouTube:\nThese statements can cause a very big chaos. It hurts.. but it's something that we should ponder on, really and sta… https://t.co/v1jc0xmYyK\nWhen will you give yourself permission to start doing what's right for you? https://t.co/z4s5ziozmd\nCOVID-19 has fuelled a global ‘learning poverty’ crisis https://t.co/gAJyh3ksVQ #education #COVID19 https://t.co/IMAgTn73cX\n@hhjrose @IWantHansLegs @Stray_Kids hi soulmate :DD\n@realDonaldTrump @Mike_Pence We trust VP Pence\n@Beni8th @notryutzu @Bumassdude Yeah we know, but still yuji been out\n@kimberlydisney Go to sleep. I really think of Katie Porter says it’s over for Moscow Mitch then it is.\n@loudthorpe @MrJonCryer .\nJanuary 21, 2021: \nThe Racketeering and \nCrimes Investigation of the Trump Administration  &amp; Trump Organization\nWhat is #Bitcoin mining https://t.co/iRaqfLuXoa\n@SenatorLoeffler bye #RobotBarbie! Time to update your handle; you’re no longer a senator. Apparently money can’t buy everything.\nOur WCW is Omobolade Oladepo. She is a television presenter,  producer and a voice over artist. She is our woman cr… https://t.co/vS8pIDPhtj\nMember of Shinoda Team A, AKB48 #Annafact\n@_Etibaby @ShoeGuyOtis Try am \nIf you invest $1000 in $AMTB today at $15.31 per share, and the stock prices rebound back to pre-pandemic prices at… https://t.co/QbM40lU4xN\n@alex42809908 @PegidaCanada @jackandjill525 @washingtonpost If I rolled my eyes any harder, I would pull a muscle i… https://t.co/znDtnCQhIY\n@MetroPlayer91 \nColor Theory: How Do #Colors Play A Big Role In #Consumer Behavior? https://t.co/xgnPeLyTST\n@iManasArora Thanks a lot.\n@worlockandrea @UKChange Signed\n@TazrimaHaque @ArmaanMalik22 .\nSame  that nothing  mine also.\n@agavedelacalle smh i thought trump supporters were supposed to be the most well-behaved individuals @breakingdead1… https://t.co/820dWsvY99\n08:17 CET: Forecast for the next 12 hours: Regnerisches Wetter mit heiteren Phasen\nThank you for 5.8k friends. Let me give you'll a free follow on my other account. Just drop your @/. ლ(ლ) https://t.co/BeC4ZmSZvc\n#ASUU\n\nThose with carry over after listening to the news that school reopen soon.\n\nMy dear na your life wey chop ca… https://t.co/gsGwkyDLfk\nYour boyfriend sees you like below en he thinks your thinking about him kumbe your thinking business. https://t.co/kFl0eDqyLA\nGet certified today and make your resume stand out from the crowd! Visit us at https://t.co/0HKXZyITG9 and find out… https://t.co/nDWDG4bm5J\nCustomers visit #websites to research brands and their products before making a purchase,  so impress them today… https://t.co/2jWEDtHyGJ\ndid my best to exist just for you\nSNSD COMEBACK\nSNSD COMEBACK\nSNSD COMEBACK\nSNSD COMEBACK\nhttps://t.co/TdBFFFqYwY\nJust posted a photo https://t.co/eD4E0ZAlcF\n@LilBean_x YOU TOLD ME TO YOU FAKER\nWe’re sorry if we get you guys uncomfortable. We’ll be careful this time. Ily @bbrightvc @winmetawin \n@GRAVE_DOMAIN funky nonverbal lanky they/xe/it/bun w autism babyyyyy !!!!!\n@ApeShxxtt RESPECTFULLY\n@CuriousTrader6 @ManekAgicha @VijayThk @DRuzbeh @rohanmehta_99 @PAVLeader #Airtel \n\n500------531++++\n\nJust Trail s… https://t.co/jWgPfGafPt\n2 people unfollowed me // automatically checked by https://t.co/lXJss2zX8V\n2 people followed me and one person unfollowed me // automatically checked by https://t.co/smvQ5ormdX\n@goal better than lampard \n@FlorianRoux2 @LDeborel Streaming , wiflix\n@Kvng_phancy \nI go slap you.\nNa spittle you wan use rub ur body abi\nsaying this cs im finishing ep7 of in the soop and he’s rlly jus. The best person :(\n@NinetyReb Oh, Well zack was talking about an else world ,alternative , war weary version of  Diana when he Posted… https://t.co/6lW4xGkUBS\nIt's crazy that the first 438 chapters of Kingdom was just a prologue in a way, with the goal of unifying china finally starting at 439\nHe does not trust Jolly, even though he had taught him alchemy.\nToo many people spend money they haven't earned, to buy things they don't want, to impress people they don't like.… https://t.co/KUJGoLvyxv\n@CHlRPl For sure I will, I'm going to rub you hot and hard.\nPitso Mosimane guides Al Ahly into CAF Champions League group stage https://t.co/UhfEiTZkCZ\n@Raja19760123 Hi! I can definitely help you in this matter. I’m currently reviewing your account information with m… https://t.co/GKsXByARxk\n@sichengswift then i guess you’ll never know the truth behind little pogchamp...\n@hbrlbb @noitsmchelle looking at you babe\n@killemwithgrace \n.@reddit is hiring   Staff Data Scientist, Econ Analytics (San Francisco) https://t.co/YkyOQswhLh\nEchando leche\n@GallagherWitt What in the actual f**k??!!  \nMen who still want to cling to this mindset are truly the weakest… https://t.co/cTus6TKvwa\nDemocrat Raphael Warnock's victory over Sen. Kelly Loeffler means the balance of power in the Senate will be decide… https://t.co/iFbHcoxig7\n@AlixJoan1 @ClareCraigPath @NicolaSturgeon Incidentally, seeking perspective, the number of 'deaths from all causes… https://t.co/VbJvB0XJHB\n* of FUCK MY LIFE\nBest place on earth \nplay (never heard of it but it sounds fire)\n@princessoinka @Paulie49 @jjs79 @GylesB1 If that's the case your school is the first in the world to have student t… https://t.co/GZZavJG3TT\n@HalloFeld The price all articles quote in Israeli currency is 300K NIS, which is currently 94K USD.\n\nNot unusual -… https://t.co/7BBLypeSej\n@Atticus733 Omg just waking up, this is amazing news. Trump will blow a gasket \nA look at how poverty is still an important driver behind children ending up in alternative care and particularly i… https://t.co/g7cmXZboXr\nCUPOM JANEIRO ANO NOVO RAPPI JANEIRO 06/01/2021 - DELIVERY RESTAURANTES, SUPERMERCADOS, LOJAS E FARMÁCIA - CADASTRE… https://t.co/rWR0ug1oik\nsometimes the world doesn’t revolve around you ((;\n@TheTrustedLiar \n@BigPimpinThoe Your gonna end up like @AndyTheLndShark without storage\nBernie Sanders was talking real heavy the past few years about what agendas he wanted to implement. Now we see if it was all talk.\nILL LEAVE THE CLASS\n@Rising_REBELION Fake news\nmen with no hobbies stop trying to get a hit tweet off of kpop stans - t\n@LaprioArcaena I don't really have a crush on them, but I think @SerpentineCiCi, @piyochuu_, @AliRevengeance,… https://t.co/ndFCa6Bfnd\nCheck out what I just added to my closet on Poshmark:  Last set! 10 Beautiful blue rose hair pins.… https://t.co/54BgRtKgt6\nIf only doordash support actually fucking answered the phone.\n06-01-2021 07:30:01 https://t.co/MbAeCJeM9Y #BlastFMCountry  Simone Reyes - I'm Ready\nI’m trippin off how much I can get done when my leg isn’t numb from sciatica\n@thecalikete @iPandarina @Loulogio_Pi \n@soulfelton TENES RAZÓN MEJOR LO BORRO\nJust posted a photo https://t.co/sohrl0x1G0\n‘You’re So Fine’: No New Year Blues For Little Walter | uDiscover https://t.co/tjD5PtpTKo\n@GovindDotasra @ajaymaken @INCRajasthan @RajGovOfficial माननीय शिक्षा मंत्री जी आपका आभार https://t.co/vBJNznEkHq\n@seokhyunjn i miss him so muchh :( https://t.co/NWcbJHC55b\nI have been trying to not put undue pressure on myself for not accomplishing everything I want to do in a day or week.\n@NPR I thought I remember this being a BOGO situation\n@sheikhaannisa you can only view a tweet's activity when it's your own tweet. basically they posted an ss of a tweet they made lol\n@sxbahkhxn Not my problem if twitter suspends me for 25 Time \n@Mrbankstips @chemicalbrodar @Minento8 come and answer\nThis is actual fact\nCelsius Network Announces Plans to Add Cardano (ADA) to its Supported Cryptocurrency Deposit List by Q2 2021!  … https://t.co/kyurrb3EGm\nI cant wait for the SONA  Mdidi will be flying everywhere @ChrisExcel102 is vicious \n\n #TwitterElectionResults https://t.co/RIC2bRDxf1\nMoney is time and time is money\n@SnipesXRage @FbeachSabrina @DecisionDeskHQ @repjohnlewis Oh, that wasn't meant to imply he went to hell. We just d… https://t.co/KiEAMZxS3Q\n@ckennethgarcia iza prank hahahhss\n@stuartpstevens @Perduesenate Trmp Light\nLets start. \n\nStart mass commenting for 30 mins.. Nonstop\nmy printer is about to HATE me\nWmk! \nDekh lain o fuddu jo protest site nu picnic spot dasde.\n\n#WorldSupportIndianFarmers \n\n#FarmersProtest\n@FitzVotes @EndHateRadio I said the same thing! I’m going to travel to Savannah &amp; Atlanta &amp; MLK and all over and sp… https://t.co/Ozep1jhrAc\nBut they bragging. Thats why what I'm doing? I'm destroying them. I'm DESTROYING them.\nyou do what you want when you popping \nThis vegetable plate is bomb! &amp; who knew Injera had so many benefits.\n@sootarchive goodnight!! sleep well :]\nhttps://t.co/vKAS2hJHtN: https://t.co/jOqra8kdaE possibly contains credentials #databreach #email_leak #ghostbin #dataleak\n@CTRavi_BJP @BSYBJP #RemoveUsFromScheduleCaste https://t.co/8KHTJQ7dFN\n#Splatoon2 #2 #NintendoSwitch https://t.co/ypDpFk02fm\n@washingtonpost #GND #Medicare4All\n@Yoonsmoon_ just the first 15-16 that are available before daily pass\nOmg this is scary and interesting at the same time I love it\nالسيارات عشق.. https://t.co/Ft0es5w1XS\n\nTrending in Automotive.. https://t.co/Ft0es5w1XS #ad https://t.co/Nu9JrBLX29\nNow Playing Myron Butler - We Are Not Ashamed  ft. Kim Burrell\n@BobDibuono It will all come out...\nwe are! thank u misty hope we interact more \n@7LVRS you should !! i’ve been trying to exercise daily and it’s been tough but seeing you talk about it might help others\nwho’s giving me headpats? I’ll be a good little puppy for you, Daddy. \n@_iammaaz_ @AsimMeriJaan lol your calculation is wrong or mine?\n13th ko BDay hai.\nAj ka day include Karo to it's 7 days\n@gemmadowneswba Happy Birthday Tilly. Xx\n$MVIS Initiated a swing position at $5.21 with stop loss at $4.8 since it is riskier to jump the gun before it has… https://t.co/mIxdoNa4K7\nAll clear, my love?\n@finewlt91 SIM AGORA ME RESPONDE NO WHATS \n@sanghaviharsh Happy birthday cutie pie  God bless you\n@hal_incandenza4 @ezraklein Haha, yeah. We just couldn't talk ourselves into doing good things.\n@MamiHndrx Meanwhile I'm scrolling Twitter. My baby girl KO. And him... He over here screaming at me in intervals fighting his sleep \nCouple more hours and we out here\n@starry_shie BERCANDAAA AKU MAU LIGHTSTICK KAKK AYO LIRIK AKU YG GAPERNA MENANG GA\n@ColorsTV 173.\nMorning\n#BBTrendMasterRahulVaidya\none person followed me // automatically checked by https://t.co/yK3J2oTR97\n?)\n\nPlug fingers\n\nRimbaud the one your with\n@ColorsTV @RubiDilaik \n\n#BBTrendMasterRubinaDilaik\nDo it fast Guy's 24\nBlack man did something amazing\n@kylenabecker My wife-elect &amp; I were talking about this. We talked about moving too, but where is there left to go… https://t.co/u5M9AQLpCP\n@AHGASISters_ @EjayePark @JerryAnnVelard1 @_jjayb @jbeom_\nSorry for the tags\n\nHAPPY BIRTHDAY JAEBEOM… https://t.co/2jlqnkQpR1\n¡Mira la transmisión de mi PlayStation 4! #PS4live (Duke Nukem 3D: 20th Anniversary World Tour)  live at https://t.co/JMK64UPJyl\najr makes good music its time we accept it\nthis is true!\nhi there!\nThere is nothing as wonderful as a song coming on shuffle that you really really needed in that moment.\n@BrdzMelody Comme toi \n@taynewzealot @Tawan_V sorry he is so cute here but I think something not good huhuhu im shy \n@s3rendipify0 very cute !! Extra points for the Felix dp\n...and the 2nd-handers who so badly wanted the $2k!\n@RepMattGaetz Screw that. These MFers don't get it. Or do they understand we're going to war and are invested in it?\n@marshiana413 @realDonaldTrump @Mike_Pence As a Christian? What does Christianity have to do with this? Trump was n… https://t.co/dcBx6gUME4\n"
     ]
    }
   ],
   "source": [
    "for i in content[:500]:\n",
    "    print(i)"
   ]
  },
  {
   "cell_type": "code",
   "execution_count": 1,
   "metadata": {},
   "outputs": [
    {
     "output_type": "stream",
     "name": "stdout",
     "text": [
      "91 files found.\nthreading across 32 cpu\n"
     ]
    }
   ],
   "source": [
    "import json\n",
    "import os\n",
    "import re\n",
    "import bz2\n",
    "\n",
    "from multiprocessing import cpu_count, Pool\n",
    "from langdetect import detect\n",
    "\n",
    "\n",
    "ENGLISH_ONLY = True\n",
    "NO_RT = True\n",
    "LEN_LIMIT = None\n",
    "REMOVE_EMOJI = True\n",
    "\n",
    "work_dir = r\"C:\\Users\\Leo's PC\\Desktop\\JS_Folder\"\n",
    "\n",
    "\n",
    "def process(filedir:str):\n",
    "    print(\"processing\", filedir)\n",
    "    content = []\n",
    "\n",
    "    with bz2.open(filedir) as f:\n",
    "\n",
    "        for line in f:\n",
    "            tweet = json.loads(line)\n",
    "\n",
    "            try:\n",
    "                tweet = tweet[\"text\"]\n",
    "\n",
    "                try:\n",
    "                    if checkEng(tweet) and checkRT(tweet) and checkLen(tweet):\n",
    "                        if REMOVE_EMOJI:\n",
    "                            tweet = removeEmojis(tweet)\n",
    "\n",
    "                        content.append(tweet)\n",
    "                except: # handle No language feature error\n",
    "                    pass\n",
    "                \n",
    "            except KeyError:\n",
    "                pass\n",
    "    return content\n",
    "\n",
    "dir_list = []\n",
    "\n",
    "for root, _, filenames in os.walk(work_dir):\n",
    "    for filename in filenames:\n",
    "        dir_list.append(os.path.join(root, filename))\n",
    "\n",
    "print(len(dir_list), \"files found.\")\n",
    "\n",
    "\n",
    "print(\"threading across {} cpu\".format(cpu_count()))\n",
    "pool = Pool(len(dir_list))\n",
    "tweet_list = pool.map(process, dir_list)\n",
    "\n",
    "print(len(tweet_list), 'Tweets gathered')"
   ]
  },
  {
   "cell_type": "code",
   "execution_count": 1,
   "metadata": {},
   "outputs": [
    {
     "output_type": "error",
     "ename": "NameError",
     "evalue": "name 'dir_list' is not defined",
     "traceback": [
      "\u001b[1;31m---------------------------------------------------------------------------\u001b[0m",
      "\u001b[1;31mNameError\u001b[0m                                 Traceback (most recent call last)",
      "\u001b[1;32m<ipython-input-1-2cea07de6a43>\u001b[0m in \u001b[0;36m<module>\u001b[1;34m\u001b[0m\n\u001b[0;32m      1\u001b[0m \u001b[1;32mfrom\u001b[0m \u001b[0mthreading\u001b[0m \u001b[1;32mimport\u001b[0m \u001b[0mThread\u001b[0m\u001b[1;33m\u001b[0m\u001b[1;33m\u001b[0m\u001b[0m\n\u001b[0;32m      2\u001b[0m \u001b[1;33m\u001b[0m\u001b[0m\n\u001b[1;32m----> 3\u001b[1;33m \u001b[1;32mfor\u001b[0m \u001b[0mtask\u001b[0m \u001b[1;32min\u001b[0m \u001b[0mdir_list\u001b[0m\u001b[1;33m:\u001b[0m\u001b[1;33m\u001b[0m\u001b[1;33m\u001b[0m\u001b[0m\n\u001b[0m\u001b[0;32m      4\u001b[0m     \u001b[0mt\u001b[0m \u001b[1;33m=\u001b[0m \u001b[0mThread\u001b[0m\u001b[1;33m(\u001b[0m\u001b[0mtarget\u001b[0m\u001b[1;33m=\u001b[0m\u001b[0mprocess\u001b[0m\u001b[1;33m,\u001b[0m \u001b[0margs\u001b[0m\u001b[1;33m=\u001b[0m\u001b[1;33m(\u001b[0m\u001b[0mtask\u001b[0m\u001b[1;33m,\u001b[0m\u001b[1;33m)\u001b[0m\u001b[1;33m)\u001b[0m\u001b[1;33m\u001b[0m\u001b[1;33m\u001b[0m\u001b[0m\n\u001b[0;32m      5\u001b[0m     \u001b[0mt\u001b[0m\u001b[1;33m.\u001b[0m\u001b[0mstart\u001b[0m\u001b[1;33m(\u001b[0m\u001b[1;33m)\u001b[0m\u001b[1;33m\u001b[0m\u001b[1;33m\u001b[0m\u001b[0m\n",
      "\u001b[1;31mNameError\u001b[0m: name 'dir_list' is not defined"
     ]
    }
   ],
   "source": [
    "from threading import Thread\n",
    "\n",
    "for task in dir_list:\n",
    "    t = Thread(target=process, args=(task,))\n",
    "    t.start()"
   ]
  },
  {
   "cell_type": "code",
   "execution_count": 2,
   "metadata": {},
   "outputs": [],
   "source": [
    "import csv\n",
    "\n",
    "with open(r\"C:\\Users\\Leo's PC\\Desktop\\JS_Folder\\generic_tweets_unshortened.csv\", encoding=\"utf-8\") as f:\n",
    "    reader = csv.reader(f)\n",
    "    data = list(reader)"
   ]
  },
  {
   "cell_type": "code",
   "execution_count": 4,
   "metadata": {},
   "outputs": [
    {
     "output_type": "stream",
     "name": "stdout",
     "text": [
      "['K', 'C', ' ', 'a', 'n', 'd', ' ', 't', 'h', 'e', ' ', 'S', 'u', 'n', 's', 'h', 'i', 'n', 'e', ' ', 'B', 'a', 'n', 'd', ' ', '-', ' ', 'K', 'e', 'e', 'p', ' ', 'I', 't', ' ', 'C', 'o', 'm', 'i', 'n', \"'\", ' ', 'L', 'o', 'v', 'e']\n"
     ]
    }
   ],
   "source": [
    "print(data[0])"
   ]
  },
  {
   "cell_type": "code",
   "execution_count": 18,
   "metadata": {},
   "outputs": [
    {
     "output_type": "stream",
     "name": "stderr",
     "text": [
      "100%|██████████| 6505758/6505758 [00:52<00:00, 124911.07it/s]\n",
      "2039992\n",
      "id fuck a man who says he loves me idc if he smell like he just got done sitting in a tree stand for 6 hours\n",
      "my baby do not feel good  he gonna have me up alllll night\n",
      "@zyuxbubu THANK YOU SM\n",
      "\n",
      "#SMTOWN_LIVE_Culture_Humanity  \n",
      "#SMTOWN_LIVE  #SMTOWN  \n",
      "@SMTOWNGLOBAL\n",
      "@redvelfess THANK YOU SM\n",
      "\n",
      "#SMTOWN_LIVE_Culture_Humanity  \n",
      "#SMTOWN_LIVE  #SMTOWN  \n",
      "@SMTOWNGLOBAL\n",
      "@doyou_bangtan @kookiechimm @kookiechimm OMG finally.  Happy New Year \n",
      "@Ajarncom Sounds like a situation I've lived a 100 times when going around with my Thai family. Last time in Sattah… https://t.co/friz662iR1\n",
      "@for_togheter @kaira_slaysss @Diviii123 @Shivinite @Shiviholic_ @Dia_momo26 @Love_You_Zndagi @7Shivin_shipper… https://t.co/f0uiB4zZWv\n",
      " Melbourne Renegades v Sydney Thunder \n",
      "\n",
      "We start 2021 with an excellent #BBL10 game! \n",
      "\n",
      " Our cricket expert The E… https://t.co/XKbJpXH4A7\n",
      "My irls are so funny how do you post infographics on wearing masks and properly social distance but visit everyone… https://t.co/jsYXODigXt\n",
      "Motor Vehicle Accident | N CENTRAL EXPY NB / N HASKELL AVE | EN18; RE03; TR03 | 110021 | 01:29 | A | https://t.co/b0qKdMJ90r\n"
     ]
    },
    {
     "output_type": "display_data",
     "data": {
      "text/plain": "<Figure size 432x288 with 1 Axes>",
      "image/svg+xml": "<?xml version=\"1.0\" encoding=\"utf-8\" standalone=\"no\"?>\r\n<!DOCTYPE svg PUBLIC \"-//W3C//DTD SVG 1.1//EN\"\r\n  \"http://www.w3.org/Graphics/SVG/1.1/DTD/svg11.dtd\">\r\n<!-- Created with matplotlib (https://matplotlib.org/) -->\r\n<svg height=\"259.116562pt\" version=\"1.1\" viewBox=\"0 0 372.103125 259.116562\" width=\"372.103125pt\" xmlns=\"http://www.w3.org/2000/svg\" xmlns:xlink=\"http://www.w3.org/1999/xlink\">\r\n <metadata>\r\n  <rdf:RDF xmlns:cc=\"http://creativecommons.org/ns#\" xmlns:dc=\"http://purl.org/dc/elements/1.1/\" xmlns:rdf=\"http://www.w3.org/1999/02/22-rdf-syntax-ns#\">\r\n   <cc:Work>\r\n    <dc:type rdf:resource=\"http://purl.org/dc/dcmitype/StillImage\"/>\r\n    <dc:date>2021-04-27T22:44:41.586638</dc:date>\r\n    <dc:format>image/svg+xml</dc:format>\r\n    <dc:creator>\r\n     <cc:Agent>\r\n      <dc:title>Matplotlib v3.3.4, https://matplotlib.org/</dc:title>\r\n     </cc:Agent>\r\n    </dc:creator>\r\n   </cc:Work>\r\n  </rdf:RDF>\r\n </metadata>\r\n <defs>\r\n  <style type=\"text/css\">*{stroke-linecap:butt;stroke-linejoin:round;}</style>\r\n </defs>\r\n <g id=\"figure_1\">\r\n  <g id=\"patch_1\">\r\n   <path d=\"M 0 259.116562 \r\nL 372.103125 259.116562 \r\nL 372.103125 0 \r\nL 0 0 \r\nz\r\n\" style=\"fill:none;\"/>\r\n  </g>\r\n  <g id=\"axes_1\">\r\n   <g id=\"patch_2\">\r\n    <path d=\"M 30.103125 235.238437 \r\nL 364.903125 235.238437 \r\nL 364.903125 17.798437 \r\nL 30.103125 17.798437 \r\nz\r\n\" style=\"fill:#ffffff;\"/>\r\n   </g>\r\n   <g id=\"patch_3\">\r\n    <path clip-path=\"url(#p0a4963d605)\" d=\"M 45.321307 235.238437 \r\nL 48.364943 235.238437 \r\nL 48.364943 28.152723 \r\nL 45.321307 28.152723 \r\nz\r\n\" style=\"fill:#1f77b4;\"/>\r\n   </g>\r\n   <g id=\"patch_4\">\r\n    <path clip-path=\"url(#p0a4963d605)\" d=\"M 48.364943 235.238437 \r\nL 51.40858 235.238437 \r\nL 51.40858 235.177832 \r\nL 48.364943 235.177832 \r\nz\r\n\" style=\"fill:#1f77b4;\"/>\r\n   </g>\r\n   <g id=\"patch_5\">\r\n    <path clip-path=\"url(#p0a4963d605)\" d=\"M 51.40858 235.238437 \r\nL 54.452216 235.238437 \r\nL 54.452216 234.998816 \r\nL 51.40858 234.998816 \r\nz\r\n\" style=\"fill:#1f77b4;\"/>\r\n   </g>\r\n   <g id=\"patch_6\">\r\n    <path clip-path=\"url(#p0a4963d605)\" d=\"M 54.452216 235.238437 \r\nL 57.495852 235.238437 \r\nL 57.495852 234.921659 \r\nL 54.452216 234.921659 \r\nz\r\n\" style=\"fill:#1f77b4;\"/>\r\n   </g>\r\n   <g id=\"patch_7\">\r\n    <path clip-path=\"url(#p0a4963d605)\" d=\"M 57.495852 235.238437 \r\nL 60.539489 235.238437 \r\nL 60.539489 234.993278 \r\nL 57.495852 234.993278 \r\nz\r\n\" style=\"fill:#1f77b4;\"/>\r\n   </g>\r\n   <g id=\"patch_8\">\r\n    <path clip-path=\"url(#p0a4963d605)\" d=\"M 60.539489 235.238437 \r\nL 63.583125 235.238437 \r\nL 63.583125 234.439997 \r\nL 60.539489 234.439997 \r\nz\r\n\" style=\"fill:#1f77b4;\"/>\r\n   </g>\r\n   <g id=\"patch_9\">\r\n    <path clip-path=\"url(#p0a4963d605)\" d=\"M 63.583125 235.238437 \r\nL 66.626761 235.238437 \r\nL 66.626761 233.895947 \r\nL 63.583125 233.895947 \r\nz\r\n\" style=\"fill:#1f77b4;\"/>\r\n   </g>\r\n   <g id=\"patch_10\">\r\n    <path clip-path=\"url(#p0a4963d605)\" d=\"M 66.626761 235.238437 \r\nL 69.670398 235.238437 \r\nL 69.670398 233.125454 \r\nL 66.626761 233.125454 \r\nz\r\n\" style=\"fill:#1f77b4;\"/>\r\n   </g>\r\n   <g id=\"patch_11\">\r\n    <path clip-path=\"url(#p0a4963d605)\" d=\"M 69.670398 235.238437 \r\nL 72.714034 235.238437 \r\nL 72.714034 232.446634 \r\nL 69.670398 232.446634 \r\nz\r\n\" style=\"fill:#1f77b4;\"/>\r\n   </g>\r\n   <g id=\"patch_12\">\r\n    <path clip-path=\"url(#p0a4963d605)\" d=\"M 72.714034 235.238437 \r\nL 75.75767 235.238437 \r\nL 75.75767 233.526903 \r\nL 72.714034 233.526903 \r\nz\r\n\" style=\"fill:#1f77b4;\"/>\r\n   </g>\r\n   <g id=\"patch_13\">\r\n    <path clip-path=\"url(#p0a4963d605)\" d=\"M 75.75767 235.238437 \r\nL 78.801307 235.238437 \r\nL 78.801307 232.04665 \r\nL 75.75767 232.04665 \r\nz\r\n\" style=\"fill:#1f77b4;\"/>\r\n   </g>\r\n   <g id=\"patch_14\">\r\n    <path clip-path=\"url(#p0a4963d605)\" d=\"M 78.801307 235.238437 \r\nL 81.844943 235.238437 \r\nL 81.844943 231.733245 \r\nL 78.801307 231.733245 \r\nz\r\n\" style=\"fill:#1f77b4;\"/>\r\n   </g>\r\n   <g id=\"patch_15\">\r\n    <path clip-path=\"url(#p0a4963d605)\" d=\"M 81.844943 235.238437 \r\nL 84.88858 235.238437 \r\nL 84.88858 231.558303 \r\nL 81.844943 231.558303 \r\nz\r\n\" style=\"fill:#1f77b4;\"/>\r\n   </g>\r\n   <g id=\"patch_16\">\r\n    <path clip-path=\"url(#p0a4963d605)\" d=\"M 84.88858 235.238437 \r\nL 87.932216 235.238437 \r\nL 87.932216 231.304486 \r\nL 84.88858 231.304486 \r\nz\r\n\" style=\"fill:#1f77b4;\"/>\r\n   </g>\r\n   <g id=\"patch_17\">\r\n    <path clip-path=\"url(#p0a4963d605)\" d=\"M 87.932216 235.238437 \r\nL 90.975852 235.238437 \r\nL 90.975852 233.210188 \r\nL 87.932216 233.210188 \r\nz\r\n\" style=\"fill:#1f77b4;\"/>\r\n   </g>\r\n   <g id=\"patch_18\">\r\n    <path clip-path=\"url(#p0a4963d605)\" d=\"M 90.975852 235.238437 \r\nL 94.019489 235.238437 \r\nL 94.019489 231.101215 \r\nL 90.975852 231.101215 \r\nz\r\n\" style=\"fill:#1f77b4;\"/>\r\n   </g>\r\n   <g id=\"patch_19\">\r\n    <path clip-path=\"url(#p0a4963d605)\" d=\"M 94.019489 235.238437 \r\nL 97.063125 235.238437 \r\nL 97.063125 231.001713 \r\nL 94.019489 231.001713 \r\nz\r\n\" style=\"fill:#1f77b4;\"/>\r\n   </g>\r\n   <g id=\"patch_20\">\r\n    <path clip-path=\"url(#p0a4963d605)\" d=\"M 97.063125 235.238437 \r\nL 100.106761 235.238437 \r\nL 100.106761 230.875599 \r\nL 97.063125 230.875599 \r\nz\r\n\" style=\"fill:#1f77b4;\"/>\r\n   </g>\r\n   <g id=\"patch_21\">\r\n    <path clip-path=\"url(#p0a4963d605)\" d=\"M 100.106761 235.238437 \r\nL 103.150398 235.238437 \r\nL 103.150398 230.743502 \r\nL 100.106761 230.743502 \r\nz\r\n\" style=\"fill:#1f77b4;\"/>\r\n   </g>\r\n   <g id=\"patch_22\">\r\n    <path clip-path=\"url(#p0a4963d605)\" d=\"M 103.150398 235.238437 \r\nL 106.194034 235.238437 \r\nL 106.194034 232.961845 \r\nL 103.150398 232.961845 \r\nz\r\n\" style=\"fill:#1f77b4;\"/>\r\n   </g>\r\n   <g id=\"patch_23\">\r\n    <path clip-path=\"url(#p0a4963d605)\" d=\"M 106.194034 235.238437 \r\nL 109.23767 235.238437 \r\nL 109.23767 230.583203 \r\nL 106.194034 230.583203 \r\nz\r\n\" style=\"fill:#1f77b4;\"/>\r\n   </g>\r\n   <g id=\"patch_24\">\r\n    <path clip-path=\"url(#p0a4963d605)\" d=\"M 109.23767 235.238437 \r\nL 112.281307 235.238437 \r\nL 112.281307 230.294244 \r\nL 109.23767 230.294244 \r\nz\r\n\" style=\"fill:#1f77b4;\"/>\r\n   </g>\r\n   <g id=\"patch_25\">\r\n    <path clip-path=\"url(#p0a4963d605)\" d=\"M 112.281307 235.238437 \r\nL 115.324943 235.238437 \r\nL 115.324943 230.81162 \r\nL 112.281307 230.81162 \r\nz\r\n\" style=\"fill:#1f77b4;\"/>\r\n   </g>\r\n   <g id=\"patch_26\">\r\n    <path clip-path=\"url(#p0a4963d605)\" d=\"M 115.324943 235.238437 \r\nL 118.36858 235.238437 \r\nL 118.36858 230.860321 \r\nL 115.324943 230.860321 \r\nz\r\n\" style=\"fill:#1f77b4;\"/>\r\n   </g>\r\n   <g id=\"patch_27\">\r\n    <path clip-path=\"url(#p0a4963d605)\" d=\"M 118.36858 235.238437 \r\nL 121.412216 235.238437 \r\nL 121.412216 233.176956 \r\nL 118.36858 233.176956 \r\nz\r\n\" style=\"fill:#1f77b4;\"/>\r\n   </g>\r\n   <g id=\"patch_28\">\r\n    <path clip-path=\"url(#p0a4963d605)\" d=\"M 121.412216 235.238437 \r\nL 124.455852 235.238437 \r\nL 124.455852 231.182702 \r\nL 121.412216 231.182702 \r\nz\r\n\" style=\"fill:#1f77b4;\"/>\r\n   </g>\r\n   <g id=\"patch_29\">\r\n    <path clip-path=\"url(#p0a4963d605)\" d=\"M 124.455852 235.238437 \r\nL 127.499489 235.238437 \r\nL 127.499489 231.231466 \r\nL 124.455852 231.231466 \r\nz\r\n\" style=\"fill:#1f77b4;\"/>\r\n   </g>\r\n   <g id=\"patch_30\">\r\n    <path clip-path=\"url(#p0a4963d605)\" d=\"M 127.499489 235.238437 \r\nL 130.543125 235.238437 \r\nL 130.543125 231.324284 \r\nL 127.499489 231.324284 \r\nz\r\n\" style=\"fill:#1f77b4;\"/>\r\n   </g>\r\n   <g id=\"patch_31\">\r\n    <path clip-path=\"url(#p0a4963d605)\" d=\"M 130.543125 235.238437 \r\nL 133.586761 235.238437 \r\nL 133.586761 231.416593 \r\nL 130.543125 231.416593 \r\nz\r\n\" style=\"fill:#1f77b4;\"/>\r\n   </g>\r\n   <g id=\"patch_32\">\r\n    <path clip-path=\"url(#p0a4963d605)\" d=\"M 133.586761 235.238437 \r\nL 136.630398 235.238437 \r\nL 136.630398 233.386339 \r\nL 133.586761 233.386339 \r\nz\r\n\" style=\"fill:#1f77b4;\"/>\r\n   </g>\r\n   <g id=\"patch_33\">\r\n    <path clip-path=\"url(#p0a4963d605)\" d=\"M 136.630398 235.238437 \r\nL 139.674034 235.238437 \r\nL 139.674034 231.636034 \r\nL 136.630398 231.636034 \r\nz\r\n\" style=\"fill:#1f77b4;\"/>\r\n   </g>\r\n   <g id=\"patch_34\">\r\n    <path clip-path=\"url(#p0a4963d605)\" d=\"M 139.674034 235.238437 \r\nL 142.71767 235.238437 \r\nL 142.71767 231.768386 \r\nL 139.674034 231.768386 \r\nz\r\n\" style=\"fill:#1f77b4;\"/>\r\n   </g>\r\n   <g id=\"patch_35\">\r\n    <path clip-path=\"url(#p0a4963d605)\" d=\"M 142.71767 235.238437 \r\nL 145.761307 235.238437 \r\nL 145.761307 231.884313 \r\nL 142.71767 231.884313 \r\nz\r\n\" style=\"fill:#1f77b4;\"/>\r\n   </g>\r\n   <g id=\"patch_36\">\r\n    <path clip-path=\"url(#p0a4963d605)\" d=\"M 145.761307 235.238437 \r\nL 148.804943 235.238437 \r\nL 148.804943 231.946192 \r\nL 145.761307 231.946192 \r\nz\r\n\" style=\"fill:#1f77b4;\"/>\r\n   </g>\r\n   <g id=\"patch_37\">\r\n    <path clip-path=\"url(#p0a4963d605)\" d=\"M 148.804943 235.238437 \r\nL 151.84858 235.238437 \r\nL 151.84858 233.634236 \r\nL 148.804943 233.634236 \r\nz\r\n\" style=\"fill:#1f77b4;\"/>\r\n   </g>\r\n   <g id=\"patch_38\">\r\n    <path clip-path=\"url(#p0a4963d605)\" d=\"M 151.84858 235.238437 \r\nL 154.892216 235.238437 \r\nL 154.892216 232.122979 \r\nL 151.84858 232.122979 \r\nz\r\n\" style=\"fill:#1f77b4;\"/>\r\n   </g>\r\n   <g id=\"patch_39\">\r\n    <path clip-path=\"url(#p0a4963d605)\" d=\"M 154.892216 235.238437 \r\nL 157.935852 235.238437 \r\nL 157.935852 232.255204 \r\nL 154.892216 232.255204 \r\nz\r\n\" style=\"fill:#1f77b4;\"/>\r\n   </g>\r\n   <g id=\"patch_40\">\r\n    <path clip-path=\"url(#p0a4963d605)\" d=\"M 157.935852 235.238437 \r\nL 160.979489 235.238437 \r\nL 160.979489 232.360882 \r\nL 157.935852 232.360882 \r\nz\r\n\" style=\"fill:#1f77b4;\"/>\r\n   </g>\r\n   <g id=\"patch_41\">\r\n    <path clip-path=\"url(#p0a4963d605)\" d=\"M 160.979489 235.238437 \r\nL 164.023125 235.238437 \r\nL 164.023125 232.454337 \r\nL 160.979489 232.454337 \r\nz\r\n\" style=\"fill:#1f77b4;\"/>\r\n   </g>\r\n   <g id=\"patch_42\">\r\n    <path clip-path=\"url(#p0a4963d605)\" d=\"M 164.023125 235.238437 \r\nL 167.066761 235.238437 \r\nL 167.066761 233.847183 \r\nL 164.023125 233.847183 \r\nz\r\n\" style=\"fill:#1f77b4;\"/>\r\n   </g>\r\n   <g id=\"patch_43\">\r\n    <path clip-path=\"url(#p0a4963d605)\" d=\"M 167.066761 235.238437 \r\nL 170.110398 235.238437 \r\nL 170.110398 232.337964 \r\nL 167.066761 232.337964 \r\nz\r\n\" style=\"fill:#1f77b4;\"/>\r\n   </g>\r\n   <g id=\"patch_44\">\r\n    <path clip-path=\"url(#p0a4963d605)\" d=\"M 170.110398 235.238437 \r\nL 173.154034 235.238437 \r\nL 173.154034 232.285698 \r\nL 170.110398 232.285698 \r\nz\r\n\" style=\"fill:#1f77b4;\"/>\r\n   </g>\r\n   <g id=\"patch_45\">\r\n    <path clip-path=\"url(#p0a4963d605)\" d=\"M 173.154034 235.238437 \r\nL 176.19767 235.238437 \r\nL 176.19767 232.600312 \r\nL 173.154034 232.600312 \r\nz\r\n\" style=\"fill:#1f77b4;\"/>\r\n   </g>\r\n   <g id=\"patch_46\">\r\n    <path clip-path=\"url(#p0a4963d605)\" d=\"M 176.19767 235.238437 \r\nL 179.241307 235.238437 \r\nL 179.241307 232.831339 \r\nL 176.19767 232.831339 \r\nz\r\n\" style=\"fill:#1f77b4;\"/>\r\n   </g>\r\n   <g id=\"patch_47\">\r\n    <path clip-path=\"url(#p0a4963d605)\" d=\"M 179.241307 235.238437 \r\nL 182.284943 235.238437 \r\nL 182.284943 234.033456 \r\nL 179.241307 234.033456 \r\nz\r\n\" style=\"fill:#1f77b4;\"/>\r\n   </g>\r\n   <g id=\"patch_48\">\r\n    <path clip-path=\"url(#p0a4963d605)\" d=\"M 182.284943 235.238437 \r\nL 185.32858 235.238437 \r\nL 185.32858 232.949558 \r\nL 182.284943 232.949558 \r\nz\r\n\" style=\"fill:#1f77b4;\"/>\r\n   </g>\r\n   <g id=\"patch_49\">\r\n    <path clip-path=\"url(#p0a4963d605)\" d=\"M 185.32858 235.238437 \r\nL 188.372216 235.238437 \r\nL 188.372216 232.993357 \r\nL 185.32858 232.993357 \r\nz\r\n\" style=\"fill:#1f77b4;\"/>\r\n   </g>\r\n   <g id=\"patch_50\">\r\n    <path clip-path=\"url(#p0a4963d605)\" d=\"M 188.372216 235.238437 \r\nL 191.415852 235.238437 \r\nL 191.415852 233.136913 \r\nL 188.372216 233.136913 \r\nz\r\n\" style=\"fill:#1f77b4;\"/>\r\n   </g>\r\n   <g id=\"patch_51\">\r\n    <path clip-path=\"url(#p0a4963d605)\" d=\"M 191.415852 235.238437 \r\nL 194.459489 235.238437 \r\nL 194.459489 233.194272 \r\nL 191.415852 233.194272 \r\nz\r\n\" style=\"fill:#1f77b4;\"/>\r\n   </g>\r\n   <g id=\"patch_52\">\r\n    <path clip-path=\"url(#p0a4963d605)\" d=\"M 194.459489 235.238437 \r\nL 197.503125 235.238437 \r\nL 197.503125 234.239209 \r\nL 194.459489 234.239209 \r\nz\r\n\" style=\"fill:#1f77b4;\"/>\r\n   </g>\r\n   <g id=\"patch_53\">\r\n    <path clip-path=\"url(#p0a4963d605)\" d=\"M 197.503125 235.238437 \r\nL 200.546761 235.238437 \r\nL 200.546761 233.301733 \r\nL 197.503125 233.301733 \r\nz\r\n\" style=\"fill:#1f77b4;\"/>\r\n   </g>\r\n   <g id=\"patch_54\">\r\n    <path clip-path=\"url(#p0a4963d605)\" d=\"M 200.546761 235.238437 \r\nL 203.590398 235.238437 \r\nL 203.590398 233.376025 \r\nL 200.546761 233.376025 \r\nz\r\n\" style=\"fill:#1f77b4;\"/>\r\n   </g>\r\n   <g id=\"patch_55\">\r\n    <path clip-path=\"url(#p0a4963d605)\" d=\"M 203.590398 235.238437 \r\nL 206.634034 235.238437 \r\nL 206.634034 233.423071 \r\nL 203.590398 233.423071 \r\nz\r\n\" style=\"fill:#1f77b4;\"/>\r\n   </g>\r\n   <g id=\"patch_56\">\r\n    <path clip-path=\"url(#p0a4963d605)\" d=\"M 206.634034 235.238437 \r\nL 209.67767 235.238437 \r\nL 209.67767 233.484059 \r\nL 206.634034 233.484059 \r\nz\r\n\" style=\"fill:#1f77b4;\"/>\r\n   </g>\r\n   <g id=\"patch_57\">\r\n    <path clip-path=\"url(#p0a4963d605)\" d=\"M 209.67767 235.238437 \r\nL 212.721307 235.238437 \r\nL 212.721307 234.348261 \r\nL 209.67767 234.348261 \r\nz\r\n\" style=\"fill:#1f77b4;\"/>\r\n   </g>\r\n   <g id=\"patch_58\">\r\n    <path clip-path=\"url(#p0a4963d605)\" d=\"M 212.721307 235.238437 \r\nL 215.764943 235.238437 \r\nL 215.764943 233.424281 \r\nL 212.721307 233.424281 \r\nz\r\n\" style=\"fill:#1f77b4;\"/>\r\n   </g>\r\n   <g id=\"patch_59\">\r\n    <path clip-path=\"url(#p0a4963d605)\" d=\"M 215.764943 235.238437 \r\nL 218.80858 235.238437 \r\nL 218.80858 233.397352 \r\nL 215.764943 233.397352 \r\nz\r\n\" style=\"fill:#1f77b4;\"/>\r\n   </g>\r\n   <g id=\"patch_60\">\r\n    <path clip-path=\"url(#p0a4963d605)\" d=\"M 218.80858 235.238437 \r\nL 221.852216 235.238437 \r\nL 221.852216 233.324205 \r\nL 218.80858 233.324205 \r\nz\r\n\" style=\"fill:#1f77b4;\"/>\r\n   </g>\r\n   <g id=\"patch_61\">\r\n    <path clip-path=\"url(#p0a4963d605)\" d=\"M 221.852216 235.238437 \r\nL 224.895852 235.238437 \r\nL 224.895852 233.290974 \r\nL 221.852216 233.290974 \r\nz\r\n\" style=\"fill:#1f77b4;\"/>\r\n   </g>\r\n   <g id=\"patch_62\">\r\n    <path clip-path=\"url(#p0a4963d605)\" d=\"M 224.895852 235.238437 \r\nL 227.939489 235.238437 \r\nL 227.939489 234.403328 \r\nL 224.895852 234.403328 \r\nz\r\n\" style=\"fill:#1f77b4;\"/>\r\n   </g>\r\n   <g id=\"patch_63\">\r\n    <path clip-path=\"url(#p0a4963d605)\" d=\"M 227.939489 235.238437 \r\nL 230.983125 235.238437 \r\nL 230.983125 233.721197 \r\nL 227.939489 233.721197 \r\nz\r\n\" style=\"fill:#1f77b4;\"/>\r\n   </g>\r\n   <g id=\"patch_64\">\r\n    <path clip-path=\"url(#p0a4963d605)\" d=\"M 230.983125 235.238437 \r\nL 234.026761 235.238437 \r\nL 234.026761 233.760476 \r\nL 230.983125 233.760476 \r\nz\r\n\" style=\"fill:#1f77b4;\"/>\r\n   </g>\r\n   <g id=\"patch_65\">\r\n    <path clip-path=\"url(#p0a4963d605)\" d=\"M 234.026761 235.238437 \r\nL 237.070398 235.238437 \r\nL 237.070398 233.855713 \r\nL 234.026761 233.855713 \r\nz\r\n\" style=\"fill:#1f77b4;\"/>\r\n   </g>\r\n   <g id=\"patch_66\">\r\n    <path clip-path=\"url(#p0a4963d605)\" d=\"M 237.070398 235.238437 \r\nL 240.114034 235.238437 \r\nL 240.114034 233.943502 \r\nL 237.070398 233.943502 \r\nz\r\n\" style=\"fill:#1f77b4;\"/>\r\n   </g>\r\n   <g id=\"patch_67\">\r\n    <path clip-path=\"url(#p0a4963d605)\" d=\"M 240.114034 235.238437 \r\nL 243.15767 235.238437 \r\nL 243.15767 234.595012 \r\nL 240.114034 234.595012 \r\nz\r\n\" style=\"fill:#1f77b4;\"/>\r\n   </g>\r\n   <g id=\"patch_68\">\r\n    <path clip-path=\"url(#p0a4963d605)\" d=\"M 243.15767 235.238437 \r\nL 246.201307 235.238437 \r\nL 246.201307 234.011938 \r\nL 243.15767 234.011938 \r\nz\r\n\" style=\"fill:#1f77b4;\"/>\r\n   </g>\r\n   <g id=\"patch_69\">\r\n    <path clip-path=\"url(#p0a4963d605)\" d=\"M 246.201307 235.238437 \r\nL 249.244943 235.238437 \r\nL 249.244943 233.996341 \r\nL 246.201307 233.996341 \r\nz\r\n\" style=\"fill:#1f77b4;\"/>\r\n   </g>\r\n   <g id=\"patch_70\">\r\n    <path clip-path=\"url(#p0a4963d605)\" d=\"M 249.244943 235.238437 \r\nL 252.28858 235.238437 \r\nL 252.28858 234.016586 \r\nL 249.244943 234.016586 \r\nz\r\n\" style=\"fill:#1f77b4;\"/>\r\n   </g>\r\n   <g id=\"patch_71\">\r\n    <path clip-path=\"url(#p0a4963d605)\" d=\"M 252.28858 235.238437 \r\nL 255.332216 235.238437 \r\nL 255.332216 233.992076 \r\nL 252.28858 233.992076 \r\nz\r\n\" style=\"fill:#1f77b4;\"/>\r\n   </g>\r\n   <g id=\"patch_72\">\r\n    <path clip-path=\"url(#p0a4963d605)\" d=\"M 255.332216 235.238437 \r\nL 258.375852 235.238437 \r\nL 258.375852 234.51238 \r\nL 255.332216 234.51238 \r\nz\r\n\" style=\"fill:#1f77b4;\"/>\r\n   </g>\r\n   <g id=\"patch_73\">\r\n    <path clip-path=\"url(#p0a4963d605)\" d=\"M 258.375852 235.238437 \r\nL 261.419489 235.238437 \r\nL 261.419489 233.865008 \r\nL 258.375852 233.865008 \r\nz\r\n\" style=\"fill:#1f77b4;\"/>\r\n   </g>\r\n   <g id=\"patch_74\">\r\n    <path clip-path=\"url(#p0a4963d605)\" d=\"M 261.419489 235.238437 \r\nL 264.463125 235.238437 \r\nL 264.463125 233.72177 \r\nL 261.419489 233.72177 \r\nz\r\n\" style=\"fill:#1f77b4;\"/>\r\n   </g>\r\n   <g id=\"patch_75\">\r\n    <path clip-path=\"url(#p0a4963d605)\" d=\"M 264.463125 235.238437 \r\nL 267.506761 235.238437 \r\nL 267.506761 233.72107 \r\nL 264.463125 233.72107 \r\nz\r\n\" style=\"fill:#1f77b4;\"/>\r\n   </g>\r\n   <g id=\"patch_76\">\r\n    <path clip-path=\"url(#p0a4963d605)\" d=\"M 267.506761 235.238437 \r\nL 270.550398 235.238437 \r\nL 270.550398 233.674279 \r\nL 267.506761 233.674279 \r\nz\r\n\" style=\"fill:#1f77b4;\"/>\r\n   </g>\r\n   <g id=\"patch_77\">\r\n    <path clip-path=\"url(#p0a4963d605)\" d=\"M 270.550398 235.238437 \r\nL 273.594034 235.238437 \r\nL 273.594034 234.411922 \r\nL 270.550398 234.411922 \r\nz\r\n\" style=\"fill:#1f77b4;\"/>\r\n   </g>\r\n   <g id=\"patch_78\">\r\n    <path clip-path=\"url(#p0a4963d605)\" d=\"M 273.594034 235.238437 \r\nL 276.63767 235.238437 \r\nL 276.63767 233.46044 \r\nL 273.594034 233.46044 \r\nz\r\n\" style=\"fill:#1f77b4;\"/>\r\n   </g>\r\n   <g id=\"patch_79\">\r\n    <path clip-path=\"url(#p0a4963d605)\" d=\"M 276.63767 235.238437 \r\nL 279.681307 235.238437 \r\nL 279.681307 232.816697 \r\nL 276.63767 232.816697 \r\nz\r\n\" style=\"fill:#1f77b4;\"/>\r\n   </g>\r\n   <g id=\"patch_80\">\r\n    <path clip-path=\"url(#p0a4963d605)\" d=\"M 279.681307 235.238437 \r\nL 282.724943 235.238437 \r\nL 282.724943 202.921656 \r\nL 279.681307 202.921656 \r\nz\r\n\" style=\"fill:#1f77b4;\"/>\r\n   </g>\r\n   <g id=\"patch_81\">\r\n    <path clip-path=\"url(#p0a4963d605)\" d=\"M 282.724943 235.238437 \r\nL 285.76858 235.238437 \r\nL 285.76858 235.123656 \r\nL 282.724943 235.123656 \r\nz\r\n\" style=\"fill:#1f77b4;\"/>\r\n   </g>\r\n   <g id=\"patch_82\">\r\n    <path clip-path=\"url(#p0a4963d605)\" d=\"M 285.76858 235.238437 \r\nL 288.812216 235.238437 \r\nL 288.812216 234.977872 \r\nL 285.76858 234.977872 \r\nz\r\n\" style=\"fill:#1f77b4;\"/>\r\n   </g>\r\n   <g id=\"patch_83\">\r\n    <path clip-path=\"url(#p0a4963d605)\" d=\"M 288.812216 235.238437 \r\nL 291.855852 235.238437 \r\nL 291.855852 234.446618 \r\nL 288.812216 234.446618 \r\nz\r\n\" style=\"fill:#1f77b4;\"/>\r\n   </g>\r\n   <g id=\"patch_84\">\r\n    <path clip-path=\"url(#p0a4963d605)\" d=\"M 291.855852 235.238437 \r\nL 294.899489 235.238437 \r\nL 294.899489 235.186808 \r\nL 291.855852 235.186808 \r\nz\r\n\" style=\"fill:#1f77b4;\"/>\r\n   </g>\r\n   <g id=\"patch_85\">\r\n    <path clip-path=\"url(#p0a4963d605)\" d=\"M 294.899489 235.238437 \r\nL 297.943125 235.238437 \r\nL 297.943125 235.143709 \r\nL 294.899489 235.143709 \r\nz\r\n\" style=\"fill:#1f77b4;\"/>\r\n   </g>\r\n   <g id=\"patch_86\">\r\n    <path clip-path=\"url(#p0a4963d605)\" d=\"M 297.943125 235.238437 \r\nL 300.986761 235.238437 \r\nL 300.986761 235.233981 \r\nL 297.943125 235.233981 \r\nz\r\n\" style=\"fill:#1f77b4;\"/>\r\n   </g>\r\n   <g id=\"patch_87\">\r\n    <path clip-path=\"url(#p0a4963d605)\" d=\"M 300.986761 235.238437 \r\nL 304.030398 235.238437 \r\nL 304.030398 235.228634 \r\nL 300.986761 235.228634 \r\nz\r\n\" style=\"fill:#1f77b4;\"/>\r\n   </g>\r\n   <g id=\"patch_88\">\r\n    <path clip-path=\"url(#p0a4963d605)\" d=\"M 304.030398 235.238437 \r\nL 307.074034 235.238437 \r\nL 307.074034 235.23761 \r\nL 304.030398 235.23761 \r\nz\r\n\" style=\"fill:#1f77b4;\"/>\r\n   </g>\r\n   <g id=\"patch_89\">\r\n    <path clip-path=\"url(#p0a4963d605)\" d=\"M 307.074034 235.238437 \r\nL 310.11767 235.238437 \r\nL 310.11767 235.236082 \r\nL 307.074034 235.236082 \r\nz\r\n\" style=\"fill:#1f77b4;\"/>\r\n   </g>\r\n   <g id=\"patch_90\">\r\n    <path clip-path=\"url(#p0a4963d605)\" d=\"M 310.11767 235.238437 \r\nL 313.161307 235.238437 \r\nL 313.161307 235.237483 \r\nL 310.11767 235.237483 \r\nz\r\n\" style=\"fill:#1f77b4;\"/>\r\n   </g>\r\n   <g id=\"patch_91\">\r\n    <path clip-path=\"url(#p0a4963d605)\" d=\"M 313.161307 235.238437 \r\nL 316.204943 235.238437 \r\nL 316.204943 235.237928 \r\nL 313.161307 235.237928 \r\nz\r\n\" style=\"fill:#1f77b4;\"/>\r\n   </g>\r\n   <g id=\"patch_92\">\r\n    <path clip-path=\"url(#p0a4963d605)\" d=\"M 316.204943 235.238437 \r\nL 319.24858 235.238437 \r\nL 319.24858 235.237992 \r\nL 316.204943 235.237992 \r\nz\r\n\" style=\"fill:#1f77b4;\"/>\r\n   </g>\r\n   <g id=\"patch_93\">\r\n    <path clip-path=\"url(#p0a4963d605)\" d=\"M 319.24858 235.238437 \r\nL 322.292216 235.238437 \r\nL 322.292216 235.238247 \r\nL 319.24858 235.238247 \r\nz\r\n\" style=\"fill:#1f77b4;\"/>\r\n   </g>\r\n   <g id=\"patch_94\">\r\n    <path clip-path=\"url(#p0a4963d605)\" d=\"M 322.292216 235.238437 \r\nL 325.335852 235.238437 \r\nL 325.335852 235.238183 \r\nL 322.292216 235.238183 \r\nz\r\n\" style=\"fill:#1f77b4;\"/>\r\n   </g>\r\n   <g id=\"patch_95\">\r\n    <path clip-path=\"url(#p0a4963d605)\" d=\"M 325.335852 235.238437 \r\nL 328.379489 235.238437 \r\nL 328.379489 235.238374 \r\nL 325.335852 235.238374 \r\nz\r\n\" style=\"fill:#1f77b4;\"/>\r\n   </g>\r\n   <g id=\"patch_96\">\r\n    <path clip-path=\"url(#p0a4963d605)\" d=\"M 328.379489 235.238437 \r\nL 331.423125 235.238437 \r\nL 331.423125 235.238247 \r\nL 328.379489 235.238247 \r\nz\r\n\" style=\"fill:#1f77b4;\"/>\r\n   </g>\r\n   <g id=\"patch_97\">\r\n    <path clip-path=\"url(#p0a4963d605)\" d=\"M 331.423125 235.238437 \r\nL 334.466761 235.238437 \r\nL 334.466761 235.238437 \r\nL 331.423125 235.238437 \r\nz\r\n\" style=\"fill:#1f77b4;\"/>\r\n   </g>\r\n   <g id=\"patch_98\">\r\n    <path clip-path=\"url(#p0a4963d605)\" d=\"M 334.466761 235.238437 \r\nL 337.510398 235.238437 \r\nL 337.510398 235.238374 \r\nL 334.466761 235.238374 \r\nz\r\n\" style=\"fill:#1f77b4;\"/>\r\n   </g>\r\n   <g id=\"patch_99\">\r\n    <path clip-path=\"url(#p0a4963d605)\" d=\"M 337.510398 235.238437 \r\nL 340.554034 235.238437 \r\nL 340.554034 235.238437 \r\nL 337.510398 235.238437 \r\nz\r\n\" style=\"fill:#1f77b4;\"/>\r\n   </g>\r\n   <g id=\"patch_100\">\r\n    <path clip-path=\"url(#p0a4963d605)\" d=\"M 340.554034 235.238437 \r\nL 343.59767 235.238437 \r\nL 343.59767 235.238437 \r\nL 340.554034 235.238437 \r\nz\r\n\" style=\"fill:#1f77b4;\"/>\r\n   </g>\r\n   <g id=\"patch_101\">\r\n    <path clip-path=\"url(#p0a4963d605)\" d=\"M 343.59767 235.238437 \r\nL 346.641307 235.238437 \r\nL 346.641307 235.238247 \r\nL 343.59767 235.238247 \r\nz\r\n\" style=\"fill:#1f77b4;\"/>\r\n   </g>\r\n   <g id=\"patch_102\">\r\n    <path clip-path=\"url(#p0a4963d605)\" d=\"M 346.641307 235.238437 \r\nL 349.684943 235.238437 \r\nL 349.684943 235.23831 \r\nL 346.641307 235.23831 \r\nz\r\n\" style=\"fill:#1f77b4;\"/>\r\n   </g>\r\n   <g id=\"matplotlib.axis_1\">\r\n    <g id=\"xtick_1\">\r\n     <g id=\"line2d_1\">\r\n      <defs>\r\n       <path d=\"M 0 0 \r\nL 0 3.5 \r\n\" id=\"m665a27a396\" style=\"stroke:#000000;stroke-width:0.8;\"/>\r\n      </defs>\r\n      <g>\r\n       <use style=\"stroke:#000000;stroke-width:0.8;\" x=\"45.321307\" xlink:href=\"#m665a27a396\" y=\"235.238437\"/>\r\n      </g>\r\n     </g>\r\n     <g id=\"text_1\">\r\n      <!-- 0 -->\r\n      <g transform=\"translate(42.140057 249.836875)scale(0.1 -0.1)\">\r\n       <defs>\r\n        <path d=\"M 31.78125 66.40625 \r\nQ 24.171875 66.40625 20.328125 58.90625 \r\nQ 16.5 51.421875 16.5 36.375 \r\nQ 16.5 21.390625 20.328125 13.890625 \r\nQ 24.171875 6.390625 31.78125 6.390625 \r\nQ 39.453125 6.390625 43.28125 13.890625 \r\nQ 47.125 21.390625 47.125 36.375 \r\nQ 47.125 51.421875 43.28125 58.90625 \r\nQ 39.453125 66.40625 31.78125 66.40625 \r\nz\r\nM 31.78125 74.21875 \r\nQ 44.046875 74.21875 50.515625 64.515625 \r\nQ 56.984375 54.828125 56.984375 36.375 \r\nQ 56.984375 17.96875 50.515625 8.265625 \r\nQ 44.046875 -1.421875 31.78125 -1.421875 \r\nQ 19.53125 -1.421875 13.0625 8.265625 \r\nQ 6.59375 17.96875 6.59375 36.375 \r\nQ 6.59375 54.828125 13.0625 64.515625 \r\nQ 19.53125 74.21875 31.78125 74.21875 \r\nz\r\n\" id=\"DejaVuSans-48\"/>\r\n       </defs>\r\n       <use xlink:href=\"#DejaVuSans-48\"/>\r\n      </g>\r\n     </g>\r\n    </g>\r\n    <g id=\"xtick_2\">\r\n     <g id=\"line2d_2\">\r\n      <g>\r\n       <use style=\"stroke:#000000;stroke-width:0.8;\" x=\"87.594034\" xlink:href=\"#m665a27a396\" y=\"235.238437\"/>\r\n      </g>\r\n     </g>\r\n     <g id=\"text_2\">\r\n      <!-- 25 -->\r\n      <g transform=\"translate(81.231534 249.836875)scale(0.1 -0.1)\">\r\n       <defs>\r\n        <path d=\"M 19.1875 8.296875 \r\nL 53.609375 8.296875 \r\nL 53.609375 0 \r\nL 7.328125 0 \r\nL 7.328125 8.296875 \r\nQ 12.9375 14.109375 22.625 23.890625 \r\nQ 32.328125 33.6875 34.8125 36.53125 \r\nQ 39.546875 41.84375 41.421875 45.53125 \r\nQ 43.3125 49.21875 43.3125 52.78125 \r\nQ 43.3125 58.59375 39.234375 62.25 \r\nQ 35.15625 65.921875 28.609375 65.921875 \r\nQ 23.96875 65.921875 18.8125 64.3125 \r\nQ 13.671875 62.703125 7.8125 59.421875 \r\nL 7.8125 69.390625 \r\nQ 13.765625 71.78125 18.9375 73 \r\nQ 24.125 74.21875 28.421875 74.21875 \r\nQ 39.75 74.21875 46.484375 68.546875 \r\nQ 53.21875 62.890625 53.21875 53.421875 \r\nQ 53.21875 48.921875 51.53125 44.890625 \r\nQ 49.859375 40.875 45.40625 35.40625 \r\nQ 44.1875 33.984375 37.640625 27.21875 \r\nQ 31.109375 20.453125 19.1875 8.296875 \r\nz\r\n\" id=\"DejaVuSans-50\"/>\r\n        <path d=\"M 10.796875 72.90625 \r\nL 49.515625 72.90625 \r\nL 49.515625 64.59375 \r\nL 19.828125 64.59375 \r\nL 19.828125 46.734375 \r\nQ 21.96875 47.46875 24.109375 47.828125 \r\nQ 26.265625 48.1875 28.421875 48.1875 \r\nQ 40.625 48.1875 47.75 41.5 \r\nQ 54.890625 34.8125 54.890625 23.390625 \r\nQ 54.890625 11.625 47.5625 5.09375 \r\nQ 40.234375 -1.421875 26.90625 -1.421875 \r\nQ 22.3125 -1.421875 17.546875 -0.640625 \r\nQ 12.796875 0.140625 7.71875 1.703125 \r\nL 7.71875 11.625 \r\nQ 12.109375 9.234375 16.796875 8.0625 \r\nQ 21.484375 6.890625 26.703125 6.890625 \r\nQ 35.15625 6.890625 40.078125 11.328125 \r\nQ 45.015625 15.765625 45.015625 23.390625 \r\nQ 45.015625 31 40.078125 35.4375 \r\nQ 35.15625 39.890625 26.703125 39.890625 \r\nQ 22.75 39.890625 18.8125 39.015625 \r\nQ 14.890625 38.140625 10.796875 36.28125 \r\nz\r\n\" id=\"DejaVuSans-53\"/>\r\n       </defs>\r\n       <use xlink:href=\"#DejaVuSans-50\"/>\r\n       <use x=\"63.623047\" xlink:href=\"#DejaVuSans-53\"/>\r\n      </g>\r\n     </g>\r\n    </g>\r\n    <g id=\"xtick_3\">\r\n     <g id=\"line2d_3\">\r\n      <g>\r\n       <use style=\"stroke:#000000;stroke-width:0.8;\" x=\"129.866761\" xlink:href=\"#m665a27a396\" y=\"235.238437\"/>\r\n      </g>\r\n     </g>\r\n     <g id=\"text_3\">\r\n      <!-- 50 -->\r\n      <g transform=\"translate(123.504261 249.836875)scale(0.1 -0.1)\">\r\n       <use xlink:href=\"#DejaVuSans-53\"/>\r\n       <use x=\"63.623047\" xlink:href=\"#DejaVuSans-48\"/>\r\n      </g>\r\n     </g>\r\n    </g>\r\n    <g id=\"xtick_4\">\r\n     <g id=\"line2d_4\">\r\n      <g>\r\n       <use style=\"stroke:#000000;stroke-width:0.8;\" x=\"172.139489\" xlink:href=\"#m665a27a396\" y=\"235.238437\"/>\r\n      </g>\r\n     </g>\r\n     <g id=\"text_4\">\r\n      <!-- 75 -->\r\n      <g transform=\"translate(165.776989 249.836875)scale(0.1 -0.1)\">\r\n       <defs>\r\n        <path d=\"M 8.203125 72.90625 \r\nL 55.078125 72.90625 \r\nL 55.078125 68.703125 \r\nL 28.609375 0 \r\nL 18.3125 0 \r\nL 43.21875 64.59375 \r\nL 8.203125 64.59375 \r\nz\r\n\" id=\"DejaVuSans-55\"/>\r\n       </defs>\r\n       <use xlink:href=\"#DejaVuSans-55\"/>\r\n       <use x=\"63.623047\" xlink:href=\"#DejaVuSans-53\"/>\r\n      </g>\r\n     </g>\r\n    </g>\r\n    <g id=\"xtick_5\">\r\n     <g id=\"line2d_5\">\r\n      <g>\r\n       <use style=\"stroke:#000000;stroke-width:0.8;\" x=\"214.412216\" xlink:href=\"#m665a27a396\" y=\"235.238437\"/>\r\n      </g>\r\n     </g>\r\n     <g id=\"text_5\">\r\n      <!-- 100 -->\r\n      <g transform=\"translate(204.868466 249.836875)scale(0.1 -0.1)\">\r\n       <defs>\r\n        <path d=\"M 12.40625 8.296875 \r\nL 28.515625 8.296875 \r\nL 28.515625 63.921875 \r\nL 10.984375 60.40625 \r\nL 10.984375 69.390625 \r\nL 28.421875 72.90625 \r\nL 38.28125 72.90625 \r\nL 38.28125 8.296875 \r\nL 54.390625 8.296875 \r\nL 54.390625 0 \r\nL 12.40625 0 \r\nz\r\n\" id=\"DejaVuSans-49\"/>\r\n       </defs>\r\n       <use xlink:href=\"#DejaVuSans-49\"/>\r\n       <use x=\"63.623047\" xlink:href=\"#DejaVuSans-48\"/>\r\n       <use x=\"127.246094\" xlink:href=\"#DejaVuSans-48\"/>\r\n      </g>\r\n     </g>\r\n    </g>\r\n    <g id=\"xtick_6\">\r\n     <g id=\"line2d_6\">\r\n      <g>\r\n       <use style=\"stroke:#000000;stroke-width:0.8;\" x=\"256.684943\" xlink:href=\"#m665a27a396\" y=\"235.238437\"/>\r\n      </g>\r\n     </g>\r\n     <g id=\"text_6\">\r\n      <!-- 125 -->\r\n      <g transform=\"translate(247.141193 249.836875)scale(0.1 -0.1)\">\r\n       <use xlink:href=\"#DejaVuSans-49\"/>\r\n       <use x=\"63.623047\" xlink:href=\"#DejaVuSans-50\"/>\r\n       <use x=\"127.246094\" xlink:href=\"#DejaVuSans-53\"/>\r\n      </g>\r\n     </g>\r\n    </g>\r\n    <g id=\"xtick_7\">\r\n     <g id=\"line2d_7\">\r\n      <g>\r\n       <use style=\"stroke:#000000;stroke-width:0.8;\" x=\"298.95767\" xlink:href=\"#m665a27a396\" y=\"235.238437\"/>\r\n      </g>\r\n     </g>\r\n     <g id=\"text_7\">\r\n      <!-- 150 -->\r\n      <g transform=\"translate(289.41392 249.836875)scale(0.1 -0.1)\">\r\n       <use xlink:href=\"#DejaVuSans-49\"/>\r\n       <use x=\"63.623047\" xlink:href=\"#DejaVuSans-53\"/>\r\n       <use x=\"127.246094\" xlink:href=\"#DejaVuSans-48\"/>\r\n      </g>\r\n     </g>\r\n    </g>\r\n    <g id=\"xtick_8\">\r\n     <g id=\"line2d_8\">\r\n      <g>\r\n       <use style=\"stroke:#000000;stroke-width:0.8;\" x=\"341.230398\" xlink:href=\"#m665a27a396\" y=\"235.238437\"/>\r\n      </g>\r\n     </g>\r\n     <g id=\"text_8\">\r\n      <!-- 175 -->\r\n      <g transform=\"translate(331.686648 249.836875)scale(0.1 -0.1)\">\r\n       <use xlink:href=\"#DejaVuSans-49\"/>\r\n       <use x=\"63.623047\" xlink:href=\"#DejaVuSans-55\"/>\r\n       <use x=\"127.246094\" xlink:href=\"#DejaVuSans-53\"/>\r\n      </g>\r\n     </g>\r\n    </g>\r\n   </g>\r\n   <g id=\"matplotlib.axis_2\">\r\n    <g id=\"ytick_1\">\r\n     <g id=\"line2d_9\">\r\n      <defs>\r\n       <path d=\"M 0 0 \r\nL -3.5 0 \r\n\" id=\"m67b47637d3\" style=\"stroke:#000000;stroke-width:0.8;\"/>\r\n      </defs>\r\n      <g>\r\n       <use style=\"stroke:#000000;stroke-width:0.8;\" x=\"30.103125\" xlink:href=\"#m67b47637d3\" y=\"235.238437\"/>\r\n      </g>\r\n     </g>\r\n     <g id=\"text_9\">\r\n      <!-- 0.0 -->\r\n      <g transform=\"translate(7.2 239.037656)scale(0.1 -0.1)\">\r\n       <defs>\r\n        <path d=\"M 10.6875 12.40625 \r\nL 21 12.40625 \r\nL 21 0 \r\nL 10.6875 0 \r\nz\r\n\" id=\"DejaVuSans-46\"/>\r\n       </defs>\r\n       <use xlink:href=\"#DejaVuSans-48\"/>\r\n       <use x=\"63.623047\" xlink:href=\"#DejaVuSans-46\"/>\r\n       <use x=\"95.410156\" xlink:href=\"#DejaVuSans-48\"/>\r\n      </g>\r\n     </g>\r\n    </g>\r\n    <g id=\"ytick_2\">\r\n     <g id=\"line2d_10\">\r\n      <g>\r\n       <use style=\"stroke:#000000;stroke-width:0.8;\" x=\"30.103125\" xlink:href=\"#m67b47637d3\" y=\"203.407774\"/>\r\n      </g>\r\n     </g>\r\n     <g id=\"text_10\">\r\n      <!-- 0.5 -->\r\n      <g transform=\"translate(7.2 207.206993)scale(0.1 -0.1)\">\r\n       <use xlink:href=\"#DejaVuSans-48\"/>\r\n       <use x=\"63.623047\" xlink:href=\"#DejaVuSans-46\"/>\r\n       <use x=\"95.410156\" xlink:href=\"#DejaVuSans-53\"/>\r\n      </g>\r\n     </g>\r\n    </g>\r\n    <g id=\"ytick_3\">\r\n     <g id=\"line2d_11\">\r\n      <g>\r\n       <use style=\"stroke:#000000;stroke-width:0.8;\" x=\"30.103125\" xlink:href=\"#m67b47637d3\" y=\"171.57711\"/>\r\n      </g>\r\n     </g>\r\n     <g id=\"text_11\">\r\n      <!-- 1.0 -->\r\n      <g transform=\"translate(7.2 175.376329)scale(0.1 -0.1)\">\r\n       <use xlink:href=\"#DejaVuSans-49\"/>\r\n       <use x=\"63.623047\" xlink:href=\"#DejaVuSans-46\"/>\r\n       <use x=\"95.410156\" xlink:href=\"#DejaVuSans-48\"/>\r\n      </g>\r\n     </g>\r\n    </g>\r\n    <g id=\"ytick_4\">\r\n     <g id=\"line2d_12\">\r\n      <g>\r\n       <use style=\"stroke:#000000;stroke-width:0.8;\" x=\"30.103125\" xlink:href=\"#m67b47637d3\" y=\"139.746446\"/>\r\n      </g>\r\n     </g>\r\n     <g id=\"text_12\">\r\n      <!-- 1.5 -->\r\n      <g transform=\"translate(7.2 143.545665)scale(0.1 -0.1)\">\r\n       <use xlink:href=\"#DejaVuSans-49\"/>\r\n       <use x=\"63.623047\" xlink:href=\"#DejaVuSans-46\"/>\r\n       <use x=\"95.410156\" xlink:href=\"#DejaVuSans-53\"/>\r\n      </g>\r\n     </g>\r\n    </g>\r\n    <g id=\"ytick_5\">\r\n     <g id=\"line2d_13\">\r\n      <g>\r\n       <use style=\"stroke:#000000;stroke-width:0.8;\" x=\"30.103125\" xlink:href=\"#m67b47637d3\" y=\"107.915783\"/>\r\n      </g>\r\n     </g>\r\n     <g id=\"text_13\">\r\n      <!-- 2.0 -->\r\n      <g transform=\"translate(7.2 111.715002)scale(0.1 -0.1)\">\r\n       <use xlink:href=\"#DejaVuSans-50\"/>\r\n       <use x=\"63.623047\" xlink:href=\"#DejaVuSans-46\"/>\r\n       <use x=\"95.410156\" xlink:href=\"#DejaVuSans-48\"/>\r\n      </g>\r\n     </g>\r\n    </g>\r\n    <g id=\"ytick_6\">\r\n     <g id=\"line2d_14\">\r\n      <g>\r\n       <use style=\"stroke:#000000;stroke-width:0.8;\" x=\"30.103125\" xlink:href=\"#m67b47637d3\" y=\"76.085119\"/>\r\n      </g>\r\n     </g>\r\n     <g id=\"text_14\">\r\n      <!-- 2.5 -->\r\n      <g transform=\"translate(7.2 79.884338)scale(0.1 -0.1)\">\r\n       <use xlink:href=\"#DejaVuSans-50\"/>\r\n       <use x=\"63.623047\" xlink:href=\"#DejaVuSans-46\"/>\r\n       <use x=\"95.410156\" xlink:href=\"#DejaVuSans-53\"/>\r\n      </g>\r\n     </g>\r\n    </g>\r\n    <g id=\"ytick_7\">\r\n     <g id=\"line2d_15\">\r\n      <g>\r\n       <use style=\"stroke:#000000;stroke-width:0.8;\" x=\"30.103125\" xlink:href=\"#m67b47637d3\" y=\"44.254455\"/>\r\n      </g>\r\n     </g>\r\n     <g id=\"text_15\">\r\n      <!-- 3.0 -->\r\n      <g transform=\"translate(7.2 48.053674)scale(0.1 -0.1)\">\r\n       <defs>\r\n        <path d=\"M 40.578125 39.3125 \r\nQ 47.65625 37.796875 51.625 33 \r\nQ 55.609375 28.21875 55.609375 21.1875 \r\nQ 55.609375 10.40625 48.1875 4.484375 \r\nQ 40.765625 -1.421875 27.09375 -1.421875 \r\nQ 22.515625 -1.421875 17.65625 -0.515625 \r\nQ 12.796875 0.390625 7.625 2.203125 \r\nL 7.625 11.71875 \r\nQ 11.71875 9.328125 16.59375 8.109375 \r\nQ 21.484375 6.890625 26.8125 6.890625 \r\nQ 36.078125 6.890625 40.9375 10.546875 \r\nQ 45.796875 14.203125 45.796875 21.1875 \r\nQ 45.796875 27.640625 41.28125 31.265625 \r\nQ 36.765625 34.90625 28.71875 34.90625 \r\nL 20.21875 34.90625 \r\nL 20.21875 43.015625 \r\nL 29.109375 43.015625 \r\nQ 36.375 43.015625 40.234375 45.921875 \r\nQ 44.09375 48.828125 44.09375 54.296875 \r\nQ 44.09375 59.90625 40.109375 62.90625 \r\nQ 36.140625 65.921875 28.71875 65.921875 \r\nQ 24.65625 65.921875 20.015625 65.03125 \r\nQ 15.375 64.15625 9.8125 62.3125 \r\nL 9.8125 71.09375 \r\nQ 15.4375 72.65625 20.34375 73.4375 \r\nQ 25.25 74.21875 29.59375 74.21875 \r\nQ 40.828125 74.21875 47.359375 69.109375 \r\nQ 53.90625 64.015625 53.90625 55.328125 \r\nQ 53.90625 49.265625 50.4375 45.09375 \r\nQ 46.96875 40.921875 40.578125 39.3125 \r\nz\r\n\" id=\"DejaVuSans-51\"/>\r\n       </defs>\r\n       <use xlink:href=\"#DejaVuSans-51\"/>\r\n       <use x=\"63.623047\" xlink:href=\"#DejaVuSans-46\"/>\r\n       <use x=\"95.410156\" xlink:href=\"#DejaVuSans-48\"/>\r\n      </g>\r\n     </g>\r\n    </g>\r\n    <g id=\"text_16\">\r\n     <!-- 1e6 -->\r\n     <g transform=\"translate(30.103125 14.798437)scale(0.1 -0.1)\">\r\n      <defs>\r\n       <path d=\"M 56.203125 29.59375 \r\nL 56.203125 25.203125 \r\nL 14.890625 25.203125 \r\nQ 15.484375 15.921875 20.484375 11.0625 \r\nQ 25.484375 6.203125 34.421875 6.203125 \r\nQ 39.59375 6.203125 44.453125 7.46875 \r\nQ 49.3125 8.734375 54.109375 11.28125 \r\nL 54.109375 2.78125 \r\nQ 49.265625 0.734375 44.1875 -0.34375 \r\nQ 39.109375 -1.421875 33.890625 -1.421875 \r\nQ 20.796875 -1.421875 13.15625 6.1875 \r\nQ 5.515625 13.8125 5.515625 26.8125 \r\nQ 5.515625 40.234375 12.765625 48.109375 \r\nQ 20.015625 56 32.328125 56 \r\nQ 43.359375 56 49.78125 48.890625 \r\nQ 56.203125 41.796875 56.203125 29.59375 \r\nz\r\nM 47.21875 32.234375 \r\nQ 47.125 39.59375 43.09375 43.984375 \r\nQ 39.0625 48.390625 32.421875 48.390625 \r\nQ 24.90625 48.390625 20.390625 44.140625 \r\nQ 15.875 39.890625 15.1875 32.171875 \r\nz\r\n\" id=\"DejaVuSans-101\"/>\r\n       <path d=\"M 33.015625 40.375 \r\nQ 26.375 40.375 22.484375 35.828125 \r\nQ 18.609375 31.296875 18.609375 23.390625 \r\nQ 18.609375 15.53125 22.484375 10.953125 \r\nQ 26.375 6.390625 33.015625 6.390625 \r\nQ 39.65625 6.390625 43.53125 10.953125 \r\nQ 47.40625 15.53125 47.40625 23.390625 \r\nQ 47.40625 31.296875 43.53125 35.828125 \r\nQ 39.65625 40.375 33.015625 40.375 \r\nz\r\nM 52.59375 71.296875 \r\nL 52.59375 62.3125 \r\nQ 48.875 64.0625 45.09375 64.984375 \r\nQ 41.3125 65.921875 37.59375 65.921875 \r\nQ 27.828125 65.921875 22.671875 59.328125 \r\nQ 17.53125 52.734375 16.796875 39.40625 \r\nQ 19.671875 43.65625 24.015625 45.921875 \r\nQ 28.375 48.1875 33.59375 48.1875 \r\nQ 44.578125 48.1875 50.953125 41.515625 \r\nQ 57.328125 34.859375 57.328125 23.390625 \r\nQ 57.328125 12.15625 50.6875 5.359375 \r\nQ 44.046875 -1.421875 33.015625 -1.421875 \r\nQ 20.359375 -1.421875 13.671875 8.265625 \r\nQ 6.984375 17.96875 6.984375 36.375 \r\nQ 6.984375 53.65625 15.1875 63.9375 \r\nQ 23.390625 74.21875 37.203125 74.21875 \r\nQ 40.921875 74.21875 44.703125 73.484375 \r\nQ 48.484375 72.75 52.59375 71.296875 \r\nz\r\n\" id=\"DejaVuSans-54\"/>\r\n      </defs>\r\n      <use xlink:href=\"#DejaVuSans-49\"/>\r\n      <use x=\"63.623047\" xlink:href=\"#DejaVuSans-101\"/>\r\n      <use x=\"125.146484\" xlink:href=\"#DejaVuSans-54\"/>\r\n     </g>\r\n    </g>\r\n   </g>\r\n   <g id=\"patch_103\">\r\n    <path d=\"M 30.103125 235.238437 \r\nL 30.103125 17.798437 \r\n\" style=\"fill:none;stroke:#000000;stroke-linecap:square;stroke-linejoin:miter;stroke-width:0.8;\"/>\r\n   </g>\r\n   <g id=\"patch_104\">\r\n    <path d=\"M 364.903125 235.238437 \r\nL 364.903125 17.798437 \r\n\" style=\"fill:none;stroke:#000000;stroke-linecap:square;stroke-linejoin:miter;stroke-width:0.8;\"/>\r\n   </g>\r\n   <g id=\"patch_105\">\r\n    <path d=\"M 30.103125 235.238437 \r\nL 364.903125 235.238437 \r\n\" style=\"fill:none;stroke:#000000;stroke-linecap:square;stroke-linejoin:miter;stroke-width:0.8;\"/>\r\n   </g>\r\n   <g id=\"patch_106\">\r\n    <path d=\"M 30.103125 17.798437 \r\nL 364.903125 17.798437 \r\n\" style=\"fill:none;stroke:#000000;stroke-linecap:square;stroke-linejoin:miter;stroke-width:0.8;\"/>\r\n   </g>\r\n  </g>\r\n </g>\r\n <defs>\r\n  <clipPath id=\"p0a4963d605\">\r\n   <rect height=\"217.44\" width=\"334.8\" x=\"30.103125\" y=\"17.798437\"/>\r\n  </clipPath>\r\n </defs>\r\n</svg>\r\n",
      "image/png": "[encoded data removed]"
     },
     "metadata": {
      "needs_background": "light"
     }
    }
   ],
   "source": [
    "import tqdm\n",
    "from matplotlib import pyplot as plt\n",
    "\n",
    "LEN_LIMIT = 50\n",
    "UNFINISHED_LIMIT = True\n",
    "\n",
    "def checkLen(text:str):\n",
    "    if LEN_LIMIT is not None:\n",
    "        return len(text) >= LEN_LIMIT\n",
    "    else:\n",
    "        return True\n",
    "\n",
    "\n",
    "def checkLUnfinished(text:str):\n",
    "    if UNFINISHED_LIMIT:\n",
    "        return not text.endswith(\"...\")\n",
    "    else:\n",
    "        return True\n",
    "\n",
    "\n",
    "tweet_list = []\n",
    "len_stats = []\n",
    "for tweet in tqdm.tqdm(data):\n",
    "    len_stats.append(len(tweet))\n",
    "    output = \"\"\n",
    "    for character in tweet:\n",
    "        output += character\n",
    "    if checkLen(output) and checkLUnfinished(output):\n",
    "        tweet_list.append(output)\n",
    "\n",
    "print(len(tweet_list))\n",
    "for i in tweet_list[:10]:\n",
    "    print(i)\n",
    "\n",
    "plt.hist(len_stats, bins=100)\n",
    "plt.show()"
   ]
  },
  {
   "cell_type": "code",
   "execution_count": 21,
   "metadata": {},
   "outputs": [],
   "source": [
    "with open(r\"C:\\Users\\Leo's PC\\Desktop\\JS_Folder\\generic_tweets_shortened.csv\", 'w', encoding=\"utf-8\") as f:\n",
    "    writer = csv.writer(f)\n",
    "    for tweet in tweet_list:\n",
    "        writer.writerow([tweet])"
   ]
  },
  {
   "cell_type": "code",
   "execution_count": 20,
   "metadata": {},
   "outputs": [
    {
     "output_type": "stream",
     "name": "stdout",
     "text": [
      "<class 'str'>\n"
     ]
    }
   ],
   "source": [
    "print(type(tweet_list[0]))"
   ]
  },
  {
   "cell_type": "code",
   "execution_count": 22,
   "metadata": {},
   "outputs": [
    {
     "output_type": "stream",
     "name": "stderr",
     "text": [
      "C:\\ProgramData\\Anaconda3\\envs\\pd\\lib\\importlib\\_bootstrap.py:219: RuntimeWarning: numpy.ufunc size changed, may indicate binary incompatibility. Expected 192 from C header, got 216 from PyObject\n",
      "  return f(*args, **kwds)\n",
      "        id fuck a man who says he loves me idc if he smell like he just got done sitting in a tree stand for 6 hours\n",
      "0        my baby do not feel good  he gonna have me up ...                                                          \n",
      "1        @zyuxbubu THANK YOU SM\\n\\n#SMTOWN_LIVE_Culture...                                                          \n",
      "2        @redvelfess THANK YOU SM\\n\\n#SMTOWN_LIVE_Cultu...                                                          \n",
      "3        @doyou_bangtan @kookiechimm @kookiechimm OMG f...                                                          \n",
      "4        @Ajarncom Sounds like a situation I've lived a...                                                          \n",
      "...                                                    ...                                                          \n",
      "2039986  every idol woke up and went to play in the sno...                                                          \n",
      "2039987  @trentxoxo i’m just grateful for my 69 homies ...                                                          \n",
      "2039988  Question: Is it possible for McConnell to shut...                                                          \n",
      "2039989  I keep reading and hearing about the situation...                                                          \n",
      "2039990  I  #StaceyAbramsAmericanHero 3 questions to as...                                                          \n",
      "\n",
      "[2039991 rows x 1 columns]\n"
     ]
    }
   ],
   "source": [
    "import pandas as pd \n",
    "\n",
    "f = pd.read_csv(open(r\"C:\\Users\\Leo's PC\\Desktop\\JS_Folder\\generic_tweets_shortened.csv\", encoding=\"utf-8\"))\n",
    "print(f)"
   ]
  },
  {
   "cell_type": "code",
   "execution_count": 5,
   "metadata": {},
   "outputs": [
    {
     "output_type": "execute_result",
     "data": {
      "text/plain": [
       "True"
      ]
     },
     "metadata": {},
     "execution_count": 5
    }
   ],
   "source": [
    "def checkLUnfinished(text:str):\n",
    "    if True:\n",
    "        return not (\"... http\" in text)\n",
    "    else:\n",
    "        return True\n",
    "\n",
    "checkLUnfinished(\"need a fraud division… https://t.co/YpA6H6Q272\")"
   ]
  },
  {
   "cell_type": "code",
   "execution_count": null,
   "metadata": {},
   "outputs": [],
   "source": []
  }
 ]
}