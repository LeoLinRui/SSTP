{
 "cells": [
  {
   "cell_type": "code",
   "execution_count": 11,
   "metadata": {},
   "outputs": [],
   "source": [
    "import numpy as np\n",
    "import matplotlib.pyplot as plt"
   ]
  },
  {
   "cell_type": "code",
   "execution_count": 85,
   "metadata": {},
   "outputs": [],
   "source": [
    "def generate_transition_latent(arr1, arr2, frames=60):\n",
    "    \n",
    "    '''\n",
    "    Generates all latents vectors between two arrays.\n",
    "    \n",
    "    Final array does not include the last vector\n",
    "    '''\n",
    "    \n",
    "    assert arr1.shape == arr2.shape\n",
    "    \n",
    "    assert arr1.shape\n",
    "    \n",
    "    delta = np.divide(np.subtract(arr2, arr1), frames)\n",
    "    out = np.empty((frames, arr1.shape[1], arr1.shape[2]), dtype=float)\n",
    "    \n",
    "    for frame in range(frames):\n",
    "        out[frame] = arr1 + np.multiply((frame), delta)\n",
    "        \n",
    "    return out\n",
    "    \n",
    "#----------------------------------------------------------------------------\n",
    "\n",
    "def transition_latent_from_key(arr): \n",
    "    \n",
    "    '''\n",
    "    inputs should be a list of tuples of (keyframe latent vector, frames)\n",
    "    outputs (len(arr) - 1) segments\n",
    "    '''\n",
    "    \n",
    "    latent_size = arr[0][0].shape\n",
    "    \n",
    "    for element in arr:\n",
    "        assert type(element) is tuple\n",
    "        assert len(element) == 2\n",
    "        assert element[0].shape == latent_size\n",
    "        latent_size == element[0].shape\n",
    "    \n",
    "    for i in range(len(arr)):\n",
    "        \n",
    "        try:\n",
    "            transition_frame_set = generate_transition_latent(arr[i][0], arr[i+1][0], frames=arr[i][1])\n",
    "            \n",
    "            try:\n",
    "                output = np.vstack((output, transition_frame_set))\n",
    "\n",
    "            except NameError:\n",
    "                output = transition_frame_set\n",
    "\n",
    "        except IndexError:\n",
    "            pass\n",
    "            \n",
    "    return output"
   ]
  },
  {
   "cell_type": "code",
   "execution_count": 86,
   "metadata": {},
   "outputs": [
    {
     "name": "stdout",
     "output_type": "stream",
     "text": [
      "[[[ True  True  True  True  True]]]\n",
      "[[[False False False False False]]]\n",
      "[[[ 1.12930221  0.89759364 -0.05779862  0.8434199   0.27989523]]]\n",
      "[[ 1.10696959  0.88708064 -0.06418604  0.83935346  0.26551376]]\n"
     ]
    }
   ],
   "source": [
    "arr1=np.random.randn(1, 1, 5)\n",
    "arr2=np.random.randn(1, 1, 5)\n",
    "\n",
    "latents = generate_transition_latent(arr1, arr2, frames=100)\n",
    "print(arr1 == latents[0])\n",
    "print(arr2 == latents[len(latents)-1])\n",
    "print(arr2)\n",
    "print(latents[len(latents)-1])"
   ]
  },
  {
   "cell_type": "code",
   "execution_count": 91,
   "metadata": {},
   "outputs": [],
   "source": [
    "arr = list((np.random.randn(1, 1, 5), 10) for i in range(10))\n",
    "arr = list(tuple(i) for i in arr)\n",
    "latents = transition_latent_from_key(arr)"
   ]
  },
  {
   "cell_type": "code",
   "execution_count": 92,
   "metadata": {},
   "outputs": [
    {
     "data": {
      "image/png": "[encoded data removed]",
      "text/plain": [
       "<Figure size 432x288 with 1 Axes>"
      ]
     },
     "metadata": {
      "needs_background": "light"
     },
     "output_type": "display_data"
    }
   ],
   "source": [
    "sample = list(i[0][3] for i in latents)\n",
    "\n",
    "plt.figure()\n",
    "\n",
    "plt.plot(np.arange(len(sample)), sample)\n",
    "\n",
    "plt.show()"
   ]
  },
  {
   "cell_type": "code",
   "execution_count": 33,
   "metadata": {},
   "outputs": [
    {
     "name": "stdout",
     "output_type": "stream",
     "text": [
      "[[ 1  2  3]\n",
      " [10 15 18]\n",
      " [ 3  4  5]\n",
      " [14 13 16]]\n",
      "(41, 1, 5)\n"
     ]
    }
   ],
   "source": [
    "a = [[1, 2, 3], [10, 15, 18]]\n",
    "b = [[3, 4, 5], [14, 13, 16]]\n",
    "print(np.vstack((a, b)))\n",
    "print(latents.shape)"
   ]
  },
  {
   "cell_type": "code",
   "execution_count": null,
   "metadata": {},
   "outputs": [],
   "source": []
  }
 ],
 "metadata": {
  "kernelspec": {
   "display_name": "Python 3",
   "language": "python",
   "name": "python3"
  },
  "language_info": {
   "codemirror_mode": {
    "name": "ipython",
    "version": 3
   },
   "file_extension": ".py",
   "mimetype": "text/x-python",
   "name": "python",
   "nbconvert_exporter": "python",
   "pygments_lexer": "ipython3",
   "version": "3.7.1"
  }
 },
 "nbformat": 4,
 "nbformat_minor": 4
}
